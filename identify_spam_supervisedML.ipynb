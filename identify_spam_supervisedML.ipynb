{
  "nbformat": 4,
  "nbformat_minor": 0,
  "metadata": {
    "colab": {
      "provenance": []
    },
    "kernelspec": {
      "name": "python3",
      "display_name": "Python 3"
    },
    "language_info": {
      "name": "python"
    }
  },
  "cells": [
    {
      "cell_type": "markdown",
      "source": [
        "#  Identify Spam Using Supervised Machine Learning\n",
        "Author: Jintong Yu"
      ],
      "metadata": {
        "id": "qMGpLy5zvZy2"
      }
    },
    {
      "cell_type": "code",
      "source": [
        "import numpy as np\n",
        "import pandas as pd\n",
        "import seaborn as sns\n",
        "import matplotlib as mpl\n",
        "from matplotlib import pyplot as plt\n",
        "%matplotlib inline\n",
        "\n",
        "from sklearn import preprocessing\n",
        "from sklearn.model_selection import train_test_split, cross_val_score, KFold, GridSearchCV\n",
        "from sklearn.neighbors import KNeighborsClassifier\n",
        "from sklearn.linear_model import LogisticRegression\n",
        "from statistics import mean\n",
        "from sklearn.ensemble import RandomForestClassifier, BaggingClassifier\n",
        "from sklearn.tree import DecisionTreeClassifier"
      ],
      "metadata": {
        "id": "XkpCBeKI0ju_"
      },
      "execution_count": null,
      "outputs": []
    },
    {
      "cell_type": "markdown",
      "source": [
        "## 1. Import the spam dataset and print the first 6 rows"
      ],
      "metadata": {
        "id": "hLZIPtGGzHPb"
      }
    },
    {
      "cell_type": "code",
      "execution_count": null,
      "metadata": {
        "colab": {
          "base_uri": "https://localhost:8080/",
          "height": 331
        },
        "id": "2ofwxEf5vVKH",
        "outputId": "64fecf18-61da-4d88-aaf4-0c9ac5f19101"
      },
      "outputs": [
        {
          "output_type": "execute_result",
          "data": {
            "text/plain": [
              "   word_freq_make:  word_freq_address:  word_freq_all:  word_freq_3d:  \\\n",
              "0             0.00                0.64            0.64            0.0   \n",
              "1             0.21                0.28            0.50            0.0   \n",
              "2             0.06                0.00            0.71            0.0   \n",
              "3             0.00                0.00            0.00            0.0   \n",
              "4             0.00                0.00            0.00            0.0   \n",
              "5             0.00                0.00            0.00            0.0   \n",
              "\n",
              "   word_freq_our:  word_freq_over:  word_freq_remove:  word_freq_internet:  \\\n",
              "0            0.32             0.00               0.00                 0.00   \n",
              "1            0.14             0.28               0.21                 0.07   \n",
              "2            1.23             0.19               0.19                 0.12   \n",
              "3            0.63             0.00               0.31                 0.63   \n",
              "4            0.63             0.00               0.31                 0.63   \n",
              "5            1.85             0.00               0.00                 1.85   \n",
              "\n",
              "   word_freq_order:  word_freq_mail:  ...  char_freq_;:  char_freq_(:  \\\n",
              "0              0.00             0.00  ...          0.00         0.000   \n",
              "1              0.00             0.94  ...          0.00         0.132   \n",
              "2              0.64             0.25  ...          0.01         0.143   \n",
              "3              0.31             0.63  ...          0.00         0.137   \n",
              "4              0.31             0.63  ...          0.00         0.135   \n",
              "5              0.00             0.00  ...          0.00         0.223   \n",
              "\n",
              "   char_freq_[:  char_freq_!:  char_freq_$:  char_freq_#:  \\\n",
              "0           0.0         0.778         0.000         0.000   \n",
              "1           0.0         0.372         0.180         0.048   \n",
              "2           0.0         0.276         0.184         0.010   \n",
              "3           0.0         0.137         0.000         0.000   \n",
              "4           0.0         0.135         0.000         0.000   \n",
              "5           0.0         0.000         0.000         0.000   \n",
              "\n",
              "   capital_run_length_average:  capital_run_length_longest:  \\\n",
              "0                        3.756                           61   \n",
              "1                        5.114                          101   \n",
              "2                        9.821                          485   \n",
              "3                        3.537                           40   \n",
              "4                        3.537                           40   \n",
              "5                        3.000                           15   \n",
              "\n",
              "   capital_run_length_total:  spam  \n",
              "0                        278     1  \n",
              "1                       1028     1  \n",
              "2                       2259     1  \n",
              "3                        191     1  \n",
              "4                        191     1  \n",
              "5                         54     1  \n",
              "\n",
              "[6 rows x 58 columns]"
            ],
            "text/html": [
              "\n",
              "  <div id=\"df-b25ed7c1-feae-4944-8ae1-903da828992e\">\n",
              "    <div class=\"colab-df-container\">\n",
              "      <div>\n",
              "<style scoped>\n",
              "    .dataframe tbody tr th:only-of-type {\n",
              "        vertical-align: middle;\n",
              "    }\n",
              "\n",
              "    .dataframe tbody tr th {\n",
              "        vertical-align: top;\n",
              "    }\n",
              "\n",
              "    .dataframe thead th {\n",
              "        text-align: right;\n",
              "    }\n",
              "</style>\n",
              "<table border=\"1\" class=\"dataframe\">\n",
              "  <thead>\n",
              "    <tr style=\"text-align: right;\">\n",
              "      <th></th>\n",
              "      <th>word_freq_make:</th>\n",
              "      <th>word_freq_address:</th>\n",
              "      <th>word_freq_all:</th>\n",
              "      <th>word_freq_3d:</th>\n",
              "      <th>word_freq_our:</th>\n",
              "      <th>word_freq_over:</th>\n",
              "      <th>word_freq_remove:</th>\n",
              "      <th>word_freq_internet:</th>\n",
              "      <th>word_freq_order:</th>\n",
              "      <th>word_freq_mail:</th>\n",
              "      <th>...</th>\n",
              "      <th>char_freq_;:</th>\n",
              "      <th>char_freq_(:</th>\n",
              "      <th>char_freq_[:</th>\n",
              "      <th>char_freq_!:</th>\n",
              "      <th>char_freq_$:</th>\n",
              "      <th>char_freq_#:</th>\n",
              "      <th>capital_run_length_average:</th>\n",
              "      <th>capital_run_length_longest:</th>\n",
              "      <th>capital_run_length_total:</th>\n",
              "      <th>spam</th>\n",
              "    </tr>\n",
              "  </thead>\n",
              "  <tbody>\n",
              "    <tr>\n",
              "      <th>0</th>\n",
              "      <td>0.00</td>\n",
              "      <td>0.64</td>\n",
              "      <td>0.64</td>\n",
              "      <td>0.0</td>\n",
              "      <td>0.32</td>\n",
              "      <td>0.00</td>\n",
              "      <td>0.00</td>\n",
              "      <td>0.00</td>\n",
              "      <td>0.00</td>\n",
              "      <td>0.00</td>\n",
              "      <td>...</td>\n",
              "      <td>0.00</td>\n",
              "      <td>0.000</td>\n",
              "      <td>0.0</td>\n",
              "      <td>0.778</td>\n",
              "      <td>0.000</td>\n",
              "      <td>0.000</td>\n",
              "      <td>3.756</td>\n",
              "      <td>61</td>\n",
              "      <td>278</td>\n",
              "      <td>1</td>\n",
              "    </tr>\n",
              "    <tr>\n",
              "      <th>1</th>\n",
              "      <td>0.21</td>\n",
              "      <td>0.28</td>\n",
              "      <td>0.50</td>\n",
              "      <td>0.0</td>\n",
              "      <td>0.14</td>\n",
              "      <td>0.28</td>\n",
              "      <td>0.21</td>\n",
              "      <td>0.07</td>\n",
              "      <td>0.00</td>\n",
              "      <td>0.94</td>\n",
              "      <td>...</td>\n",
              "      <td>0.00</td>\n",
              "      <td>0.132</td>\n",
              "      <td>0.0</td>\n",
              "      <td>0.372</td>\n",
              "      <td>0.180</td>\n",
              "      <td>0.048</td>\n",
              "      <td>5.114</td>\n",
              "      <td>101</td>\n",
              "      <td>1028</td>\n",
              "      <td>1</td>\n",
              "    </tr>\n",
              "    <tr>\n",
              "      <th>2</th>\n",
              "      <td>0.06</td>\n",
              "      <td>0.00</td>\n",
              "      <td>0.71</td>\n",
              "      <td>0.0</td>\n",
              "      <td>1.23</td>\n",
              "      <td>0.19</td>\n",
              "      <td>0.19</td>\n",
              "      <td>0.12</td>\n",
              "      <td>0.64</td>\n",
              "      <td>0.25</td>\n",
              "      <td>...</td>\n",
              "      <td>0.01</td>\n",
              "      <td>0.143</td>\n",
              "      <td>0.0</td>\n",
              "      <td>0.276</td>\n",
              "      <td>0.184</td>\n",
              "      <td>0.010</td>\n",
              "      <td>9.821</td>\n",
              "      <td>485</td>\n",
              "      <td>2259</td>\n",
              "      <td>1</td>\n",
              "    </tr>\n",
              "    <tr>\n",
              "      <th>3</th>\n",
              "      <td>0.00</td>\n",
              "      <td>0.00</td>\n",
              "      <td>0.00</td>\n",
              "      <td>0.0</td>\n",
              "      <td>0.63</td>\n",
              "      <td>0.00</td>\n",
              "      <td>0.31</td>\n",
              "      <td>0.63</td>\n",
              "      <td>0.31</td>\n",
              "      <td>0.63</td>\n",
              "      <td>...</td>\n",
              "      <td>0.00</td>\n",
              "      <td>0.137</td>\n",
              "      <td>0.0</td>\n",
              "      <td>0.137</td>\n",
              "      <td>0.000</td>\n",
              "      <td>0.000</td>\n",
              "      <td>3.537</td>\n",
              "      <td>40</td>\n",
              "      <td>191</td>\n",
              "      <td>1</td>\n",
              "    </tr>\n",
              "    <tr>\n",
              "      <th>4</th>\n",
              "      <td>0.00</td>\n",
              "      <td>0.00</td>\n",
              "      <td>0.00</td>\n",
              "      <td>0.0</td>\n",
              "      <td>0.63</td>\n",
              "      <td>0.00</td>\n",
              "      <td>0.31</td>\n",
              "      <td>0.63</td>\n",
              "      <td>0.31</td>\n",
              "      <td>0.63</td>\n",
              "      <td>...</td>\n",
              "      <td>0.00</td>\n",
              "      <td>0.135</td>\n",
              "      <td>0.0</td>\n",
              "      <td>0.135</td>\n",
              "      <td>0.000</td>\n",
              "      <td>0.000</td>\n",
              "      <td>3.537</td>\n",
              "      <td>40</td>\n",
              "      <td>191</td>\n",
              "      <td>1</td>\n",
              "    </tr>\n",
              "    <tr>\n",
              "      <th>5</th>\n",
              "      <td>0.00</td>\n",
              "      <td>0.00</td>\n",
              "      <td>0.00</td>\n",
              "      <td>0.0</td>\n",
              "      <td>1.85</td>\n",
              "      <td>0.00</td>\n",
              "      <td>0.00</td>\n",
              "      <td>1.85</td>\n",
              "      <td>0.00</td>\n",
              "      <td>0.00</td>\n",
              "      <td>...</td>\n",
              "      <td>0.00</td>\n",
              "      <td>0.223</td>\n",
              "      <td>0.0</td>\n",
              "      <td>0.000</td>\n",
              "      <td>0.000</td>\n",
              "      <td>0.000</td>\n",
              "      <td>3.000</td>\n",
              "      <td>15</td>\n",
              "      <td>54</td>\n",
              "      <td>1</td>\n",
              "    </tr>\n",
              "  </tbody>\n",
              "</table>\n",
              "<p>6 rows × 58 columns</p>\n",
              "</div>\n",
              "      <button class=\"colab-df-convert\" onclick=\"convertToInteractive('df-b25ed7c1-feae-4944-8ae1-903da828992e')\"\n",
              "              title=\"Convert this dataframe to an interactive table.\"\n",
              "              style=\"display:none;\">\n",
              "        \n",
              "  <svg xmlns=\"http://www.w3.org/2000/svg\" height=\"24px\"viewBox=\"0 0 24 24\"\n",
              "       width=\"24px\">\n",
              "    <path d=\"M0 0h24v24H0V0z\" fill=\"none\"/>\n",
              "    <path d=\"M18.56 5.44l.94 2.06.94-2.06 2.06-.94-2.06-.94-.94-2.06-.94 2.06-2.06.94zm-11 1L8.5 8.5l.94-2.06 2.06-.94-2.06-.94L8.5 2.5l-.94 2.06-2.06.94zm10 10l.94 2.06.94-2.06 2.06-.94-2.06-.94-.94-2.06-.94 2.06-2.06.94z\"/><path d=\"M17.41 7.96l-1.37-1.37c-.4-.4-.92-.59-1.43-.59-.52 0-1.04.2-1.43.59L10.3 9.45l-7.72 7.72c-.78.78-.78 2.05 0 2.83L4 21.41c.39.39.9.59 1.41.59.51 0 1.02-.2 1.41-.59l7.78-7.78 2.81-2.81c.8-.78.8-2.07 0-2.86zM5.41 20L4 18.59l7.72-7.72 1.47 1.35L5.41 20z\"/>\n",
              "  </svg>\n",
              "      </button>\n",
              "      \n",
              "  <style>\n",
              "    .colab-df-container {\n",
              "      display:flex;\n",
              "      flex-wrap:wrap;\n",
              "      gap: 12px;\n",
              "    }\n",
              "\n",
              "    .colab-df-convert {\n",
              "      background-color: #E8F0FE;\n",
              "      border: none;\n",
              "      border-radius: 50%;\n",
              "      cursor: pointer;\n",
              "      display: none;\n",
              "      fill: #1967D2;\n",
              "      height: 32px;\n",
              "      padding: 0 0 0 0;\n",
              "      width: 32px;\n",
              "    }\n",
              "\n",
              "    .colab-df-convert:hover {\n",
              "      background-color: #E2EBFA;\n",
              "      box-shadow: 0px 1px 2px rgba(60, 64, 67, 0.3), 0px 1px 3px 1px rgba(60, 64, 67, 0.15);\n",
              "      fill: #174EA6;\n",
              "    }\n",
              "\n",
              "    [theme=dark] .colab-df-convert {\n",
              "      background-color: #3B4455;\n",
              "      fill: #D2E3FC;\n",
              "    }\n",
              "\n",
              "    [theme=dark] .colab-df-convert:hover {\n",
              "      background-color: #434B5C;\n",
              "      box-shadow: 0px 1px 3px 1px rgba(0, 0, 0, 0.15);\n",
              "      filter: drop-shadow(0px 1px 2px rgba(0, 0, 0, 0.3));\n",
              "      fill: #FFFFFF;\n",
              "    }\n",
              "  </style>\n",
              "\n",
              "      <script>\n",
              "        const buttonEl =\n",
              "          document.querySelector('#df-b25ed7c1-feae-4944-8ae1-903da828992e button.colab-df-convert');\n",
              "        buttonEl.style.display =\n",
              "          google.colab.kernel.accessAllowed ? 'block' : 'none';\n",
              "\n",
              "        async function convertToInteractive(key) {\n",
              "          const element = document.querySelector('#df-b25ed7c1-feae-4944-8ae1-903da828992e');\n",
              "          const dataTable =\n",
              "            await google.colab.kernel.invokeFunction('convertToInteractive',\n",
              "                                                     [key], {});\n",
              "          if (!dataTable) return;\n",
              "\n",
              "          const docLinkHtml = 'Like what you see? Visit the ' +\n",
              "            '<a target=\"_blank\" href=https://colab.research.google.com/notebooks/data_table.ipynb>data table notebook</a>'\n",
              "            + ' to learn more about interactive tables.';\n",
              "          element.innerHTML = '';\n",
              "          dataTable['output_type'] = 'display_data';\n",
              "          await google.colab.output.renderOutput(dataTable, element);\n",
              "          const docLink = document.createElement('div');\n",
              "          docLink.innerHTML = docLinkHtml;\n",
              "          element.appendChild(docLink);\n",
              "        }\n",
              "      </script>\n",
              "    </div>\n",
              "  </div>\n",
              "  "
            ]
          },
          "metadata": {},
          "execution_count": 2
        }
      ],
      "source": [
        "df = pd.read_csv('/content/spam_dataset.csv')\n",
        "df.head(6)"
      ]
    },
    {
      "cell_type": "code",
      "source": [
        "df.columns"
      ],
      "metadata": {
        "colab": {
          "base_uri": "https://localhost:8080/"
        },
        "id": "QWYcNwsJ0yC8",
        "outputId": "9f1ecaf1-0ae9-45e6-fab5-ea057f7ee778"
      },
      "execution_count": null,
      "outputs": [
        {
          "output_type": "execute_result",
          "data": {
            "text/plain": [
              "Index(['word_freq_make:', 'word_freq_address:', 'word_freq_all:',\n",
              "       'word_freq_3d:', 'word_freq_our:', 'word_freq_over:',\n",
              "       'word_freq_remove:', 'word_freq_internet:', 'word_freq_order:',\n",
              "       'word_freq_mail:', 'word_freq_receive:', 'word_freq_will:',\n",
              "       'word_freq_people:', 'word_freq_report:', 'word_freq_addresses:',\n",
              "       'word_freq_free:', 'word_freq_business:', 'word_freq_email:',\n",
              "       'word_freq_you:', 'word_freq_credit:', 'word_freq_your:',\n",
              "       'word_freq_font:', 'word_freq_000:', 'word_freq_money:',\n",
              "       'word_freq_hp:', 'word_freq_hpl:', 'word_freq_george:',\n",
              "       'word_freq_650:', 'word_freq_lab:', 'word_freq_labs:',\n",
              "       'word_freq_telnet:', 'word_freq_857:', 'word_freq_data:',\n",
              "       'word_freq_415:', 'word_freq_85:', 'word_freq_technology:',\n",
              "       'word_freq_1999:', 'word_freq_parts:', 'word_freq_pm:',\n",
              "       'word_freq_direct:', 'word_freq_cs:', 'word_freq_meeting:',\n",
              "       'word_freq_original:', 'word_freq_project:', 'word_freq_re:',\n",
              "       'word_freq_edu:', 'word_freq_table:', 'word_freq_conference:',\n",
              "       'char_freq_;:', 'char_freq_(:', 'char_freq_[:', 'char_freq_!:',\n",
              "       'char_freq_$:', 'char_freq_#:', 'capital_run_length_average:',\n",
              "       'capital_run_length_longest:', 'capital_run_length_total:', 'spam'],\n",
              "      dtype='object')"
            ]
          },
          "metadata": {},
          "execution_count": 3
        }
      ]
    },
    {
      "cell_type": "markdown",
      "source": [
        "## 2. Read through the documentation and select 3 variables that seem to be important predictors of spam, why?"
      ],
      "metadata": {
        "id": "HwYYG5fr23vM"
      }
    },
    {
      "cell_type": "code",
      "source": [
        "# select spam emails\n",
        "spam = df.loc[df['spam'] == 1]\n",
        "spam.describe()"
      ],
      "metadata": {
        "colab": {
          "base_uri": "https://localhost:8080/",
          "height": 393
        },
        "id": "KgyybHml2HAR",
        "outputId": "5ef102d7-f610-4b24-8b1b-c8ddd4269ae4"
      },
      "execution_count": null,
      "outputs": [
        {
          "output_type": "execute_result",
          "data": {
            "text/plain": [
              "       word_freq_make:  word_freq_address:  word_freq_all:  word_freq_3d:  \\\n",
              "count      1813.000000         1813.000000     1813.000000    1813.000000   \n",
              "mean          0.152339            0.164650        0.403795       0.164672   \n",
              "std           0.310645            0.348919        0.480725       2.219087   \n",
              "min           0.000000            0.000000        0.000000       0.000000   \n",
              "25%           0.000000            0.000000        0.000000       0.000000   \n",
              "50%           0.000000            0.000000        0.300000       0.000000   \n",
              "75%           0.170000            0.210000        0.640000       0.000000   \n",
              "max           4.540000            4.760000        3.700000      42.810000   \n",
              "\n",
              "       word_freq_our:  word_freq_over:  word_freq_remove:  \\\n",
              "count     1813.000000      1813.000000        1813.000000   \n",
              "mean         0.513955         0.174876           0.275405   \n",
              "std          0.707195         0.321927           0.572110   \n",
              "min          0.000000         0.000000           0.000000   \n",
              "25%          0.000000         0.000000           0.000000   \n",
              "50%          0.290000         0.000000           0.000000   \n",
              "75%          0.780000         0.240000           0.340000   \n",
              "max          7.690000         2.540000           7.270000   \n",
              "\n",
              "       word_freq_internet:  word_freq_order:  word_freq_mail:  ...  \\\n",
              "count          1813.000000       1813.000000      1813.000000  ...   \n",
              "mean              0.208141          0.170061         0.350507  ...   \n",
              "std               0.544864          0.354804         0.631384  ...   \n",
              "min               0.000000          0.000000         0.000000  ...   \n",
              "25%               0.000000          0.000000         0.000000  ...   \n",
              "50%               0.000000          0.000000         0.000000  ...   \n",
              "75%               0.190000          0.190000         0.510000  ...   \n",
              "max              11.110000          3.330000         7.550000  ...   \n",
              "\n",
              "       char_freq_;:  char_freq_(:  char_freq_[:  char_freq_!:  char_freq_$:  \\\n",
              "count   1813.000000   1813.000000   1813.000000   1813.000000   1813.000000   \n",
              "mean       0.020573      0.108970      0.008199      0.513713      0.174478   \n",
              "std        0.091621      0.282141      0.047449      0.744183      0.360479   \n",
              "min        0.000000      0.000000      0.000000      0.000000      0.000000   \n",
              "25%        0.000000      0.000000      0.000000      0.094000      0.000000   \n",
              "50%        0.000000      0.065000      0.000000      0.331000      0.080000   \n",
              "75%        0.000000      0.144000      0.000000      0.645000      0.211000   \n",
              "max        1.117000      9.752000      1.171000      7.843000      6.003000   \n",
              "\n",
              "       char_freq_#:  capital_run_length_average:  capital_run_length_longest:  \\\n",
              "count   1813.000000                  1813.000000                  1813.000000   \n",
              "mean       0.078877                     9.519165                   104.393271   \n",
              "std        0.611941                    49.846186                   299.284969   \n",
              "min        0.000000                     1.000000                     1.000000   \n",
              "25%        0.000000                     2.324000                    15.000000   \n",
              "50%        0.000000                     3.621000                    38.000000   \n",
              "75%        0.018000                     5.708000                    84.000000   \n",
              "max       19.829000                  1102.500000                  9989.000000   \n",
              "\n",
              "       capital_run_length_total:    spam  \n",
              "count                1813.000000  1813.0  \n",
              "mean                  470.619415     1.0  \n",
              "std                   825.081179     0.0  \n",
              "min                     2.000000     1.0  \n",
              "25%                    93.000000     1.0  \n",
              "50%                   194.000000     1.0  \n",
              "75%                   530.000000     1.0  \n",
              "max                 15841.000000     1.0  \n",
              "\n",
              "[8 rows x 58 columns]"
            ],
            "text/html": [
              "\n",
              "  <div id=\"df-316318e9-60be-4100-b226-68104314ef32\">\n",
              "    <div class=\"colab-df-container\">\n",
              "      <div>\n",
              "<style scoped>\n",
              "    .dataframe tbody tr th:only-of-type {\n",
              "        vertical-align: middle;\n",
              "    }\n",
              "\n",
              "    .dataframe tbody tr th {\n",
              "        vertical-align: top;\n",
              "    }\n",
              "\n",
              "    .dataframe thead th {\n",
              "        text-align: right;\n",
              "    }\n",
              "</style>\n",
              "<table border=\"1\" class=\"dataframe\">\n",
              "  <thead>\n",
              "    <tr style=\"text-align: right;\">\n",
              "      <th></th>\n",
              "      <th>word_freq_make:</th>\n",
              "      <th>word_freq_address:</th>\n",
              "      <th>word_freq_all:</th>\n",
              "      <th>word_freq_3d:</th>\n",
              "      <th>word_freq_our:</th>\n",
              "      <th>word_freq_over:</th>\n",
              "      <th>word_freq_remove:</th>\n",
              "      <th>word_freq_internet:</th>\n",
              "      <th>word_freq_order:</th>\n",
              "      <th>word_freq_mail:</th>\n",
              "      <th>...</th>\n",
              "      <th>char_freq_;:</th>\n",
              "      <th>char_freq_(:</th>\n",
              "      <th>char_freq_[:</th>\n",
              "      <th>char_freq_!:</th>\n",
              "      <th>char_freq_$:</th>\n",
              "      <th>char_freq_#:</th>\n",
              "      <th>capital_run_length_average:</th>\n",
              "      <th>capital_run_length_longest:</th>\n",
              "      <th>capital_run_length_total:</th>\n",
              "      <th>spam</th>\n",
              "    </tr>\n",
              "  </thead>\n",
              "  <tbody>\n",
              "    <tr>\n",
              "      <th>count</th>\n",
              "      <td>1813.000000</td>\n",
              "      <td>1813.000000</td>\n",
              "      <td>1813.000000</td>\n",
              "      <td>1813.000000</td>\n",
              "      <td>1813.000000</td>\n",
              "      <td>1813.000000</td>\n",
              "      <td>1813.000000</td>\n",
              "      <td>1813.000000</td>\n",
              "      <td>1813.000000</td>\n",
              "      <td>1813.000000</td>\n",
              "      <td>...</td>\n",
              "      <td>1813.000000</td>\n",
              "      <td>1813.000000</td>\n",
              "      <td>1813.000000</td>\n",
              "      <td>1813.000000</td>\n",
              "      <td>1813.000000</td>\n",
              "      <td>1813.000000</td>\n",
              "      <td>1813.000000</td>\n",
              "      <td>1813.000000</td>\n",
              "      <td>1813.000000</td>\n",
              "      <td>1813.0</td>\n",
              "    </tr>\n",
              "    <tr>\n",
              "      <th>mean</th>\n",
              "      <td>0.152339</td>\n",
              "      <td>0.164650</td>\n",
              "      <td>0.403795</td>\n",
              "      <td>0.164672</td>\n",
              "      <td>0.513955</td>\n",
              "      <td>0.174876</td>\n",
              "      <td>0.275405</td>\n",
              "      <td>0.208141</td>\n",
              "      <td>0.170061</td>\n",
              "      <td>0.350507</td>\n",
              "      <td>...</td>\n",
              "      <td>0.020573</td>\n",
              "      <td>0.108970</td>\n",
              "      <td>0.008199</td>\n",
              "      <td>0.513713</td>\n",
              "      <td>0.174478</td>\n",
              "      <td>0.078877</td>\n",
              "      <td>9.519165</td>\n",
              "      <td>104.393271</td>\n",
              "      <td>470.619415</td>\n",
              "      <td>1.0</td>\n",
              "    </tr>\n",
              "    <tr>\n",
              "      <th>std</th>\n",
              "      <td>0.310645</td>\n",
              "      <td>0.348919</td>\n",
              "      <td>0.480725</td>\n",
              "      <td>2.219087</td>\n",
              "      <td>0.707195</td>\n",
              "      <td>0.321927</td>\n",
              "      <td>0.572110</td>\n",
              "      <td>0.544864</td>\n",
              "      <td>0.354804</td>\n",
              "      <td>0.631384</td>\n",
              "      <td>...</td>\n",
              "      <td>0.091621</td>\n",
              "      <td>0.282141</td>\n",
              "      <td>0.047449</td>\n",
              "      <td>0.744183</td>\n",
              "      <td>0.360479</td>\n",
              "      <td>0.611941</td>\n",
              "      <td>49.846186</td>\n",
              "      <td>299.284969</td>\n",
              "      <td>825.081179</td>\n",
              "      <td>0.0</td>\n",
              "    </tr>\n",
              "    <tr>\n",
              "      <th>min</th>\n",
              "      <td>0.000000</td>\n",
              "      <td>0.000000</td>\n",
              "      <td>0.000000</td>\n",
              "      <td>0.000000</td>\n",
              "      <td>0.000000</td>\n",
              "      <td>0.000000</td>\n",
              "      <td>0.000000</td>\n",
              "      <td>0.000000</td>\n",
              "      <td>0.000000</td>\n",
              "      <td>0.000000</td>\n",
              "      <td>...</td>\n",
              "      <td>0.000000</td>\n",
              "      <td>0.000000</td>\n",
              "      <td>0.000000</td>\n",
              "      <td>0.000000</td>\n",
              "      <td>0.000000</td>\n",
              "      <td>0.000000</td>\n",
              "      <td>1.000000</td>\n",
              "      <td>1.000000</td>\n",
              "      <td>2.000000</td>\n",
              "      <td>1.0</td>\n",
              "    </tr>\n",
              "    <tr>\n",
              "      <th>25%</th>\n",
              "      <td>0.000000</td>\n",
              "      <td>0.000000</td>\n",
              "      <td>0.000000</td>\n",
              "      <td>0.000000</td>\n",
              "      <td>0.000000</td>\n",
              "      <td>0.000000</td>\n",
              "      <td>0.000000</td>\n",
              "      <td>0.000000</td>\n",
              "      <td>0.000000</td>\n",
              "      <td>0.000000</td>\n",
              "      <td>...</td>\n",
              "      <td>0.000000</td>\n",
              "      <td>0.000000</td>\n",
              "      <td>0.000000</td>\n",
              "      <td>0.094000</td>\n",
              "      <td>0.000000</td>\n",
              "      <td>0.000000</td>\n",
              "      <td>2.324000</td>\n",
              "      <td>15.000000</td>\n",
              "      <td>93.000000</td>\n",
              "      <td>1.0</td>\n",
              "    </tr>\n",
              "    <tr>\n",
              "      <th>50%</th>\n",
              "      <td>0.000000</td>\n",
              "      <td>0.000000</td>\n",
              "      <td>0.300000</td>\n",
              "      <td>0.000000</td>\n",
              "      <td>0.290000</td>\n",
              "      <td>0.000000</td>\n",
              "      <td>0.000000</td>\n",
              "      <td>0.000000</td>\n",
              "      <td>0.000000</td>\n",
              "      <td>0.000000</td>\n",
              "      <td>...</td>\n",
              "      <td>0.000000</td>\n",
              "      <td>0.065000</td>\n",
              "      <td>0.000000</td>\n",
              "      <td>0.331000</td>\n",
              "      <td>0.080000</td>\n",
              "      <td>0.000000</td>\n",
              "      <td>3.621000</td>\n",
              "      <td>38.000000</td>\n",
              "      <td>194.000000</td>\n",
              "      <td>1.0</td>\n",
              "    </tr>\n",
              "    <tr>\n",
              "      <th>75%</th>\n",
              "      <td>0.170000</td>\n",
              "      <td>0.210000</td>\n",
              "      <td>0.640000</td>\n",
              "      <td>0.000000</td>\n",
              "      <td>0.780000</td>\n",
              "      <td>0.240000</td>\n",
              "      <td>0.340000</td>\n",
              "      <td>0.190000</td>\n",
              "      <td>0.190000</td>\n",
              "      <td>0.510000</td>\n",
              "      <td>...</td>\n",
              "      <td>0.000000</td>\n",
              "      <td>0.144000</td>\n",
              "      <td>0.000000</td>\n",
              "      <td>0.645000</td>\n",
              "      <td>0.211000</td>\n",
              "      <td>0.018000</td>\n",
              "      <td>5.708000</td>\n",
              "      <td>84.000000</td>\n",
              "      <td>530.000000</td>\n",
              "      <td>1.0</td>\n",
              "    </tr>\n",
              "    <tr>\n",
              "      <th>max</th>\n",
              "      <td>4.540000</td>\n",
              "      <td>4.760000</td>\n",
              "      <td>3.700000</td>\n",
              "      <td>42.810000</td>\n",
              "      <td>7.690000</td>\n",
              "      <td>2.540000</td>\n",
              "      <td>7.270000</td>\n",
              "      <td>11.110000</td>\n",
              "      <td>3.330000</td>\n",
              "      <td>7.550000</td>\n",
              "      <td>...</td>\n",
              "      <td>1.117000</td>\n",
              "      <td>9.752000</td>\n",
              "      <td>1.171000</td>\n",
              "      <td>7.843000</td>\n",
              "      <td>6.003000</td>\n",
              "      <td>19.829000</td>\n",
              "      <td>1102.500000</td>\n",
              "      <td>9989.000000</td>\n",
              "      <td>15841.000000</td>\n",
              "      <td>1.0</td>\n",
              "    </tr>\n",
              "  </tbody>\n",
              "</table>\n",
              "<p>8 rows × 58 columns</p>\n",
              "</div>\n",
              "      <button class=\"colab-df-convert\" onclick=\"convertToInteractive('df-316318e9-60be-4100-b226-68104314ef32')\"\n",
              "              title=\"Convert this dataframe to an interactive table.\"\n",
              "              style=\"display:none;\">\n",
              "        \n",
              "  <svg xmlns=\"http://www.w3.org/2000/svg\" height=\"24px\"viewBox=\"0 0 24 24\"\n",
              "       width=\"24px\">\n",
              "    <path d=\"M0 0h24v24H0V0z\" fill=\"none\"/>\n",
              "    <path d=\"M18.56 5.44l.94 2.06.94-2.06 2.06-.94-2.06-.94-.94-2.06-.94 2.06-2.06.94zm-11 1L8.5 8.5l.94-2.06 2.06-.94-2.06-.94L8.5 2.5l-.94 2.06-2.06.94zm10 10l.94 2.06.94-2.06 2.06-.94-2.06-.94-.94-2.06-.94 2.06-2.06.94z\"/><path d=\"M17.41 7.96l-1.37-1.37c-.4-.4-.92-.59-1.43-.59-.52 0-1.04.2-1.43.59L10.3 9.45l-7.72 7.72c-.78.78-.78 2.05 0 2.83L4 21.41c.39.39.9.59 1.41.59.51 0 1.02-.2 1.41-.59l7.78-7.78 2.81-2.81c.8-.78.8-2.07 0-2.86zM5.41 20L4 18.59l7.72-7.72 1.47 1.35L5.41 20z\"/>\n",
              "  </svg>\n",
              "      </button>\n",
              "      \n",
              "  <style>\n",
              "    .colab-df-container {\n",
              "      display:flex;\n",
              "      flex-wrap:wrap;\n",
              "      gap: 12px;\n",
              "    }\n",
              "\n",
              "    .colab-df-convert {\n",
              "      background-color: #E8F0FE;\n",
              "      border: none;\n",
              "      border-radius: 50%;\n",
              "      cursor: pointer;\n",
              "      display: none;\n",
              "      fill: #1967D2;\n",
              "      height: 32px;\n",
              "      padding: 0 0 0 0;\n",
              "      width: 32px;\n",
              "    }\n",
              "\n",
              "    .colab-df-convert:hover {\n",
              "      background-color: #E2EBFA;\n",
              "      box-shadow: 0px 1px 2px rgba(60, 64, 67, 0.3), 0px 1px 3px 1px rgba(60, 64, 67, 0.15);\n",
              "      fill: #174EA6;\n",
              "    }\n",
              "\n",
              "    [theme=dark] .colab-df-convert {\n",
              "      background-color: #3B4455;\n",
              "      fill: #D2E3FC;\n",
              "    }\n",
              "\n",
              "    [theme=dark] .colab-df-convert:hover {\n",
              "      background-color: #434B5C;\n",
              "      box-shadow: 0px 1px 3px 1px rgba(0, 0, 0, 0.15);\n",
              "      filter: drop-shadow(0px 1px 2px rgba(0, 0, 0, 0.3));\n",
              "      fill: #FFFFFF;\n",
              "    }\n",
              "  </style>\n",
              "\n",
              "      <script>\n",
              "        const buttonEl =\n",
              "          document.querySelector('#df-316318e9-60be-4100-b226-68104314ef32 button.colab-df-convert');\n",
              "        buttonEl.style.display =\n",
              "          google.colab.kernel.accessAllowed ? 'block' : 'none';\n",
              "\n",
              "        async function convertToInteractive(key) {\n",
              "          const element = document.querySelector('#df-316318e9-60be-4100-b226-68104314ef32');\n",
              "          const dataTable =\n",
              "            await google.colab.kernel.invokeFunction('convertToInteractive',\n",
              "                                                     [key], {});\n",
              "          if (!dataTable) return;\n",
              "\n",
              "          const docLinkHtml = 'Like what you see? Visit the ' +\n",
              "            '<a target=\"_blank\" href=https://colab.research.google.com/notebooks/data_table.ipynb>data table notebook</a>'\n",
              "            + ' to learn more about interactive tables.';\n",
              "          element.innerHTML = '';\n",
              "          dataTable['output_type'] = 'display_data';\n",
              "          await google.colab.output.renderOutput(dataTable, element);\n",
              "          const docLink = document.createElement('div');\n",
              "          docLink.innerHTML = docLinkHtml;\n",
              "          element.appendChild(docLink);\n",
              "        }\n",
              "      </script>\n",
              "    </div>\n",
              "  </div>\n",
              "  "
            ]
          },
          "metadata": {},
          "execution_count": 4
        }
      ]
    },
    {
      "cell_type": "code",
      "source": [
        "# find the top 10 attributes with the highest mean values\n",
        "# exclude length attributes with column index as 54, 55, 56\n",
        "spam_mean_df = pd.DataFrame(spam.iloc[:,0:54].mean().tolist())\n",
        "spam_mean_df = spam_mean_df.rename(columns={0: 'Mean'})\n",
        "spam_mean_df.sort_values(by='Mean', ascending=False).head(10)"
      ],
      "metadata": {
        "colab": {
          "base_uri": "https://localhost:8080/",
          "height": 363
        },
        "id": "JJWDFwUO5aFy",
        "outputId": "cc3a5f0f-3b8c-49be-ba99-f3b04803c697"
      },
      "execution_count": null,
      "outputs": [
        {
          "output_type": "execute_result",
          "data": {
            "text/plain": [
              "        Mean\n",
              "18  2.264539\n",
              "20  1.380370\n",
              "11  0.549972\n",
              "15  0.518362\n",
              "4   0.513955\n",
              "51  0.513713\n",
              "2   0.403795\n",
              "9   0.350507\n",
              "17  0.319228\n",
              "16  0.287507"
            ],
            "text/html": [
              "\n",
              "  <div id=\"df-7d71da46-5085-42c8-8542-401a0f48a47a\">\n",
              "    <div class=\"colab-df-container\">\n",
              "      <div>\n",
              "<style scoped>\n",
              "    .dataframe tbody tr th:only-of-type {\n",
              "        vertical-align: middle;\n",
              "    }\n",
              "\n",
              "    .dataframe tbody tr th {\n",
              "        vertical-align: top;\n",
              "    }\n",
              "\n",
              "    .dataframe thead th {\n",
              "        text-align: right;\n",
              "    }\n",
              "</style>\n",
              "<table border=\"1\" class=\"dataframe\">\n",
              "  <thead>\n",
              "    <tr style=\"text-align: right;\">\n",
              "      <th></th>\n",
              "      <th>Mean</th>\n",
              "    </tr>\n",
              "  </thead>\n",
              "  <tbody>\n",
              "    <tr>\n",
              "      <th>18</th>\n",
              "      <td>2.264539</td>\n",
              "    </tr>\n",
              "    <tr>\n",
              "      <th>20</th>\n",
              "      <td>1.380370</td>\n",
              "    </tr>\n",
              "    <tr>\n",
              "      <th>11</th>\n",
              "      <td>0.549972</td>\n",
              "    </tr>\n",
              "    <tr>\n",
              "      <th>15</th>\n",
              "      <td>0.518362</td>\n",
              "    </tr>\n",
              "    <tr>\n",
              "      <th>4</th>\n",
              "      <td>0.513955</td>\n",
              "    </tr>\n",
              "    <tr>\n",
              "      <th>51</th>\n",
              "      <td>0.513713</td>\n",
              "    </tr>\n",
              "    <tr>\n",
              "      <th>2</th>\n",
              "      <td>0.403795</td>\n",
              "    </tr>\n",
              "    <tr>\n",
              "      <th>9</th>\n",
              "      <td>0.350507</td>\n",
              "    </tr>\n",
              "    <tr>\n",
              "      <th>17</th>\n",
              "      <td>0.319228</td>\n",
              "    </tr>\n",
              "    <tr>\n",
              "      <th>16</th>\n",
              "      <td>0.287507</td>\n",
              "    </tr>\n",
              "  </tbody>\n",
              "</table>\n",
              "</div>\n",
              "      <button class=\"colab-df-convert\" onclick=\"convertToInteractive('df-7d71da46-5085-42c8-8542-401a0f48a47a')\"\n",
              "              title=\"Convert this dataframe to an interactive table.\"\n",
              "              style=\"display:none;\">\n",
              "        \n",
              "  <svg xmlns=\"http://www.w3.org/2000/svg\" height=\"24px\"viewBox=\"0 0 24 24\"\n",
              "       width=\"24px\">\n",
              "    <path d=\"M0 0h24v24H0V0z\" fill=\"none\"/>\n",
              "    <path d=\"M18.56 5.44l.94 2.06.94-2.06 2.06-.94-2.06-.94-.94-2.06-.94 2.06-2.06.94zm-11 1L8.5 8.5l.94-2.06 2.06-.94-2.06-.94L8.5 2.5l-.94 2.06-2.06.94zm10 10l.94 2.06.94-2.06 2.06-.94-2.06-.94-.94-2.06-.94 2.06-2.06.94z\"/><path d=\"M17.41 7.96l-1.37-1.37c-.4-.4-.92-.59-1.43-.59-.52 0-1.04.2-1.43.59L10.3 9.45l-7.72 7.72c-.78.78-.78 2.05 0 2.83L4 21.41c.39.39.9.59 1.41.59.51 0 1.02-.2 1.41-.59l7.78-7.78 2.81-2.81c.8-.78.8-2.07 0-2.86zM5.41 20L4 18.59l7.72-7.72 1.47 1.35L5.41 20z\"/>\n",
              "  </svg>\n",
              "      </button>\n",
              "      \n",
              "  <style>\n",
              "    .colab-df-container {\n",
              "      display:flex;\n",
              "      flex-wrap:wrap;\n",
              "      gap: 12px;\n",
              "    }\n",
              "\n",
              "    .colab-df-convert {\n",
              "      background-color: #E8F0FE;\n",
              "      border: none;\n",
              "      border-radius: 50%;\n",
              "      cursor: pointer;\n",
              "      display: none;\n",
              "      fill: #1967D2;\n",
              "      height: 32px;\n",
              "      padding: 0 0 0 0;\n",
              "      width: 32px;\n",
              "    }\n",
              "\n",
              "    .colab-df-convert:hover {\n",
              "      background-color: #E2EBFA;\n",
              "      box-shadow: 0px 1px 2px rgba(60, 64, 67, 0.3), 0px 1px 3px 1px rgba(60, 64, 67, 0.15);\n",
              "      fill: #174EA6;\n",
              "    }\n",
              "\n",
              "    [theme=dark] .colab-df-convert {\n",
              "      background-color: #3B4455;\n",
              "      fill: #D2E3FC;\n",
              "    }\n",
              "\n",
              "    [theme=dark] .colab-df-convert:hover {\n",
              "      background-color: #434B5C;\n",
              "      box-shadow: 0px 1px 3px 1px rgba(0, 0, 0, 0.15);\n",
              "      filter: drop-shadow(0px 1px 2px rgba(0, 0, 0, 0.3));\n",
              "      fill: #FFFFFF;\n",
              "    }\n",
              "  </style>\n",
              "\n",
              "      <script>\n",
              "        const buttonEl =\n",
              "          document.querySelector('#df-7d71da46-5085-42c8-8542-401a0f48a47a button.colab-df-convert');\n",
              "        buttonEl.style.display =\n",
              "          google.colab.kernel.accessAllowed ? 'block' : 'none';\n",
              "\n",
              "        async function convertToInteractive(key) {\n",
              "          const element = document.querySelector('#df-7d71da46-5085-42c8-8542-401a0f48a47a');\n",
              "          const dataTable =\n",
              "            await google.colab.kernel.invokeFunction('convertToInteractive',\n",
              "                                                     [key], {});\n",
              "          if (!dataTable) return;\n",
              "\n",
              "          const docLinkHtml = 'Like what you see? Visit the ' +\n",
              "            '<a target=\"_blank\" href=https://colab.research.google.com/notebooks/data_table.ipynb>data table notebook</a>'\n",
              "            + ' to learn more about interactive tables.';\n",
              "          element.innerHTML = '';\n",
              "          dataTable['output_type'] = 'display_data';\n",
              "          await google.colab.output.renderOutput(dataTable, element);\n",
              "          const docLink = document.createElement('div');\n",
              "          docLink.innerHTML = docLinkHtml;\n",
              "          element.appendChild(docLink);\n",
              "        }\n",
              "      </script>\n",
              "    </div>\n",
              "  </div>\n",
              "  "
            ]
          },
          "metadata": {},
          "execution_count": 5
        }
      ]
    },
    {
      "cell_type": "code",
      "source": [
        "mean_df = pd.DataFrame(df.iloc[:,0:54].mean().tolist())\n",
        "mean_df = mean_df.rename(columns={0: 'Mean'})\n",
        "mean_df.sort_values(by='Mean', ascending=False).head(10)"
      ],
      "metadata": {
        "colab": {
          "base_uri": "https://localhost:8080/",
          "height": 363
        },
        "id": "lPsuKWIUBJoE",
        "outputId": "3a1d1d0a-0873-4eb0-f8c6-6ff38cbf0e19"
      },
      "execution_count": null,
      "outputs": [
        {
          "output_type": "execute_result",
          "data": {
            "text/plain": [
              "        Mean\n",
              "18  1.662100\n",
              "20  0.809761\n",
              "26  0.767305\n",
              "24  0.549504\n",
              "11  0.541702\n",
              "4   0.312223\n",
              "44  0.301224\n",
              "2   0.280656\n",
              "51  0.269071\n",
              "25  0.265384"
            ],
            "text/html": [
              "\n",
              "  <div id=\"df-6faca3d7-784b-4a69-8d28-b06cefa503de\">\n",
              "    <div class=\"colab-df-container\">\n",
              "      <div>\n",
              "<style scoped>\n",
              "    .dataframe tbody tr th:only-of-type {\n",
              "        vertical-align: middle;\n",
              "    }\n",
              "\n",
              "    .dataframe tbody tr th {\n",
              "        vertical-align: top;\n",
              "    }\n",
              "\n",
              "    .dataframe thead th {\n",
              "        text-align: right;\n",
              "    }\n",
              "</style>\n",
              "<table border=\"1\" class=\"dataframe\">\n",
              "  <thead>\n",
              "    <tr style=\"text-align: right;\">\n",
              "      <th></th>\n",
              "      <th>Mean</th>\n",
              "    </tr>\n",
              "  </thead>\n",
              "  <tbody>\n",
              "    <tr>\n",
              "      <th>18</th>\n",
              "      <td>1.662100</td>\n",
              "    </tr>\n",
              "    <tr>\n",
              "      <th>20</th>\n",
              "      <td>0.809761</td>\n",
              "    </tr>\n",
              "    <tr>\n",
              "      <th>26</th>\n",
              "      <td>0.767305</td>\n",
              "    </tr>\n",
              "    <tr>\n",
              "      <th>24</th>\n",
              "      <td>0.549504</td>\n",
              "    </tr>\n",
              "    <tr>\n",
              "      <th>11</th>\n",
              "      <td>0.541702</td>\n",
              "    </tr>\n",
              "    <tr>\n",
              "      <th>4</th>\n",
              "      <td>0.312223</td>\n",
              "    </tr>\n",
              "    <tr>\n",
              "      <th>44</th>\n",
              "      <td>0.301224</td>\n",
              "    </tr>\n",
              "    <tr>\n",
              "      <th>2</th>\n",
              "      <td>0.280656</td>\n",
              "    </tr>\n",
              "    <tr>\n",
              "      <th>51</th>\n",
              "      <td>0.269071</td>\n",
              "    </tr>\n",
              "    <tr>\n",
              "      <th>25</th>\n",
              "      <td>0.265384</td>\n",
              "    </tr>\n",
              "  </tbody>\n",
              "</table>\n",
              "</div>\n",
              "      <button class=\"colab-df-convert\" onclick=\"convertToInteractive('df-6faca3d7-784b-4a69-8d28-b06cefa503de')\"\n",
              "              title=\"Convert this dataframe to an interactive table.\"\n",
              "              style=\"display:none;\">\n",
              "        \n",
              "  <svg xmlns=\"http://www.w3.org/2000/svg\" height=\"24px\"viewBox=\"0 0 24 24\"\n",
              "       width=\"24px\">\n",
              "    <path d=\"M0 0h24v24H0V0z\" fill=\"none\"/>\n",
              "    <path d=\"M18.56 5.44l.94 2.06.94-2.06 2.06-.94-2.06-.94-.94-2.06-.94 2.06-2.06.94zm-11 1L8.5 8.5l.94-2.06 2.06-.94-2.06-.94L8.5 2.5l-.94 2.06-2.06.94zm10 10l.94 2.06.94-2.06 2.06-.94-2.06-.94-.94-2.06-.94 2.06-2.06.94z\"/><path d=\"M17.41 7.96l-1.37-1.37c-.4-.4-.92-.59-1.43-.59-.52 0-1.04.2-1.43.59L10.3 9.45l-7.72 7.72c-.78.78-.78 2.05 0 2.83L4 21.41c.39.39.9.59 1.41.59.51 0 1.02-.2 1.41-.59l7.78-7.78 2.81-2.81c.8-.78.8-2.07 0-2.86zM5.41 20L4 18.59l7.72-7.72 1.47 1.35L5.41 20z\"/>\n",
              "  </svg>\n",
              "      </button>\n",
              "      \n",
              "  <style>\n",
              "    .colab-df-container {\n",
              "      display:flex;\n",
              "      flex-wrap:wrap;\n",
              "      gap: 12px;\n",
              "    }\n",
              "\n",
              "    .colab-df-convert {\n",
              "      background-color: #E8F0FE;\n",
              "      border: none;\n",
              "      border-radius: 50%;\n",
              "      cursor: pointer;\n",
              "      display: none;\n",
              "      fill: #1967D2;\n",
              "      height: 32px;\n",
              "      padding: 0 0 0 0;\n",
              "      width: 32px;\n",
              "    }\n",
              "\n",
              "    .colab-df-convert:hover {\n",
              "      background-color: #E2EBFA;\n",
              "      box-shadow: 0px 1px 2px rgba(60, 64, 67, 0.3), 0px 1px 3px 1px rgba(60, 64, 67, 0.15);\n",
              "      fill: #174EA6;\n",
              "    }\n",
              "\n",
              "    [theme=dark] .colab-df-convert {\n",
              "      background-color: #3B4455;\n",
              "      fill: #D2E3FC;\n",
              "    }\n",
              "\n",
              "    [theme=dark] .colab-df-convert:hover {\n",
              "      background-color: #434B5C;\n",
              "      box-shadow: 0px 1px 3px 1px rgba(0, 0, 0, 0.15);\n",
              "      filter: drop-shadow(0px 1px 2px rgba(0, 0, 0, 0.3));\n",
              "      fill: #FFFFFF;\n",
              "    }\n",
              "  </style>\n",
              "\n",
              "      <script>\n",
              "        const buttonEl =\n",
              "          document.querySelector('#df-6faca3d7-784b-4a69-8d28-b06cefa503de button.colab-df-convert');\n",
              "        buttonEl.style.display =\n",
              "          google.colab.kernel.accessAllowed ? 'block' : 'none';\n",
              "\n",
              "        async function convertToInteractive(key) {\n",
              "          const element = document.querySelector('#df-6faca3d7-784b-4a69-8d28-b06cefa503de');\n",
              "          const dataTable =\n",
              "            await google.colab.kernel.invokeFunction('convertToInteractive',\n",
              "                                                     [key], {});\n",
              "          if (!dataTable) return;\n",
              "\n",
              "          const docLinkHtml = 'Like what you see? Visit the ' +\n",
              "            '<a target=\"_blank\" href=https://colab.research.google.com/notebooks/data_table.ipynb>data table notebook</a>'\n",
              "            + ' to learn more about interactive tables.';\n",
              "          element.innerHTML = '';\n",
              "          dataTable['output_type'] = 'display_data';\n",
              "          await google.colab.output.renderOutput(dataTable, element);\n",
              "          const docLink = document.createElement('div');\n",
              "          docLink.innerHTML = docLinkHtml;\n",
              "          element.appendChild(docLink);\n",
              "        }\n",
              "      </script>\n",
              "    </div>\n",
              "  </div>\n",
              "  "
            ]
          },
          "metadata": {},
          "execution_count": 6
        }
      ]
    },
    {
      "cell_type": "code",
      "source": [
        "index = [18, 20, 15]\n",
        "spam.columns[index]"
      ],
      "metadata": {
        "colab": {
          "base_uri": "https://localhost:8080/"
        },
        "id": "bvIJ3jCA6_aE",
        "outputId": "74876732-84d5-460b-8e27-bdce9e41f2b7"
      },
      "execution_count": null,
      "outputs": [
        {
          "output_type": "execute_result",
          "data": {
            "text/plain": [
              "Index(['word_freq_you:', 'word_freq_your:', 'word_freq_free:'], dtype='object')"
            ]
          },
          "metadata": {},
          "execution_count": 7
        }
      ]
    },
    {
      "cell_type": "markdown",
      "source": [
        "**Conclusion**  \n",
        "Because of their higher mean values, \"word_freq_you:\", \"word_freq_your:\", and \"word_freq_free:\" could be important predictors of spam emails.    \n",
        "  \n",
        "To make mean values comparable, I exclude 3 attributes related to length. By ranking frequencies mean values for the spam-email-only dataset, we notice that attributes with index 18, 20, and 11 have the higher frequencies mean values. Attributes 18 and 20 are chosen because they have a higher frequency mean values in spam-email-only dataset, meaning that spam emails might contain more \"you\" and \"your\" words compared to non-spam emails. However, since attributes 11 is also one of the attributes in the overall dataset that have higher mean values of frequency and the mean value is similar to that of spam-email-only dataset, I exclude this attribute and choose the attribute 15, which ranks 4th of the frequency mean values in the spam-email-only dataset."
      ],
      "metadata": {
        "id": "BqSUT7DaAg8b"
      }
    },
    {
      "cell_type": "markdown",
      "source": [
        "## 3. Visualize the univariate distribution of each of the 3 explanatory variables"
      ],
      "metadata": {
        "id": "LRWuuhDiFXPu"
      }
    },
    {
      "cell_type": "code",
      "source": [
        "# \"word_freq_you:\"\n",
        "ax = sns.boxplot(data=df, x='spam', y='word_freq_you:')\n",
        "ax.set_xticklabels(['nonspam', 'spam'])\n",
        "plt.show()"
      ],
      "metadata": {
        "colab": {
          "base_uri": "https://localhost:8080/",
          "height": 279
        },
        "id": "qLYaHO1A_z5_",
        "outputId": "961bf8f5-1655-4bf5-d8fc-d15f516e8f0a"
      },
      "execution_count": null,
      "outputs": [
        {
          "output_type": "display_data",
          "data": {
            "text/plain": [
              "<Figure size 432x288 with 1 Axes>"
            ],
            "image/png": "[encoded data removed]"
          },
          "metadata": {
            "needs_background": "light"
          }
        }
      ]
    },
    {
      "cell_type": "code",
      "source": [
        "# \"word_freq_your:\"\n",
        "ax = sns.boxplot(data=df, x='spam', y='word_freq_your:')\n",
        "ax.set_xticklabels(['nonspam', 'spam'])\n",
        "plt.show()"
      ],
      "metadata": {
        "colab": {
          "base_uri": "https://localhost:8080/",
          "height": 279
        },
        "id": "_yJOEWp3HIgQ",
        "outputId": "c3c2b511-fa0a-4c4b-df17-9b5df35cd6ef"
      },
      "execution_count": null,
      "outputs": [
        {
          "output_type": "display_data",
          "data": {
            "text/plain": [
              "<Figure size 432x288 with 1 Axes>"
            ],
            "image/png": "[encoded data removed]"
          },
          "metadata": {
            "needs_background": "light"
          }
        }
      ]
    },
    {
      "cell_type": "code",
      "source": [
        "# \"word_freq_free:\"\n",
        "ax = sns.boxplot(data=df, x='spam', y='word_freq_free:')\n",
        "ax.set_xticklabels(['nonspam', 'spam'])\n",
        "plt.show()"
      ],
      "metadata": {
        "colab": {
          "base_uri": "https://localhost:8080/",
          "height": 279
        },
        "id": "VMjDEcxCHUgd",
        "outputId": "a2d0db28-692a-4585-a35f-0abace59884a"
      },
      "execution_count": null,
      "outputs": [
        {
          "output_type": "display_data",
          "data": {
            "text/plain": [
              "<Figure size 432x288 with 1 Axes>"
            ],
            "image/png": "[encoded data removed]"
          },
          "metadata": {
            "needs_background": "light"
          }
        }
      ]
    },
    {
      "cell_type": "markdown",
      "source": [
        "## 4. Name supervised learning models that we have learned that can be used to predict dependent variables like \"spam\""
      ],
      "metadata": {
        "id": "IQ1WLPUuIDM4"
      }
    },
    {
      "cell_type": "markdown",
      "source": [
        "* K Nearest Neighbors\n",
        "* Logistic Regression (w/ or w/o penalty)\n",
        "* Decision Trees Classification\n",
        "* Decision Trees Classification with Bagging\n",
        "* Random Forest Classification\n",
        "* Gradient Boosting Classification\n",
        "* Support Vector Machines"
      ],
      "metadata": {
        "id": "7t0ahgWwIOm8"
      }
    },
    {
      "cell_type": "markdown",
      "source": [
        "## 5. Describe the importance of training and test data. Why do we separate data into these subsets?"
      ],
      "metadata": {
        "id": "Ha3XD43gKvBW"
      }
    },
    {
      "cell_type": "markdown",
      "source": [
        "Since the goal of machine learning is to make accurate prediction for unseen data, train/test split helps to test the performance of machine learning models by separating training set that is used to fit the model and test set that is used to represent unseen data and test performance. Without train/test split, machine learning models that use all samples as training data might become overfitting, in other words, they fit so well on the samples but have weaker prediction or generalization on unseen data. Essentially, dataset should be large enough to implement train/test split.  "
      ],
      "metadata": {
        "id": "cJaAuoG6K4Gk"
      }
    },
    {
      "cell_type": "markdown",
      "source": [
        "## 6. What is k-fold cross-validation and what do we use it for?"
      ],
      "metadata": {
        "id": "R2oWgogAi4-d"
      }
    },
    {
      "cell_type": "markdown",
      "source": [
        "K-fold cross-validation is a resampling method that is used to measure performance of a machine learning model on a limited dataset.  \n",
        "\n",
        "K refers to the number of groups that a given training dataset will be split into. Each group will be considered as test set once and used as training set for (k-1) times. The k evaluation scores will be summarized to produce one evaluation score for the model.  \n",
        "\n",
        "The evaluation method is used for estimating the performance of a machine learning model on predicting unseen data. The method provides a more accurate or less biased measurement for a model compared to the simple train/test split since every sample will be used for both learning and testing, therefore, the model fitting result will not depend on a particular choice of training set."
      ],
      "metadata": {
        "id": "gz_qoddzi-YX"
      }
    },
    {
      "cell_type": "markdown",
      "source": [
        "## 7. K-fold CV vs. Stratified K-fold CV"
      ],
      "metadata": {
        "id": "NBICGoBSwNfX"
      }
    },
    {
      "cell_type": "markdown",
      "source": [
        "While k-fold cross-validation just divide the training set into k folds/groups, stratified k-fold cross validation ensures that each fold has the same proportion of observations with a given label. Stratified k-fold cross-validation can be used for classification problem of imbalance class distribution."
      ],
      "metadata": {
        "id": "KjpZ_ZsRLvj1"
      }
    },
    {
      "cell_type": "markdown",
      "source": [
        "## 8. Build the first model:  \n",
        "* Train/test split\n",
        "* Build a model with 3 variables\n",
        "* Describe parameters\n",
        "* Evaluate the model using:\n",
        "  * Test data\n",
        "  * k-fold cross-validation"
      ],
      "metadata": {
        "id": "2QF6CYLJNiPG"
      }
    },
    {
      "cell_type": "code",
      "source": [
        "# KNN\n",
        "subset1 = df.iloc[:, [15, 18, 20, 57]]\n",
        "subset1.head()"
      ],
      "metadata": {
        "colab": {
          "base_uri": "https://localhost:8080/",
          "height": 206
        },
        "id": "kUHUsclkHX1k",
        "outputId": "e30915b3-1bd0-484a-83fa-9d2591e7f5b6"
      },
      "execution_count": null,
      "outputs": [
        {
          "output_type": "execute_result",
          "data": {
            "text/plain": [
              "   word_freq_free:  word_freq_you:  word_freq_your:  spam\n",
              "0             0.32            1.93             0.96     1\n",
              "1             0.14            3.47             1.59     1\n",
              "2             0.06            1.36             0.51     1\n",
              "3             0.31            3.18             0.31     1\n",
              "4             0.31            3.18             0.31     1"
            ],
            "text/html": [
              "\n",
              "  <div id=\"df-e83d5a45-0ffd-4ceb-85b8-ea16512c43df\">\n",
              "    <div class=\"colab-df-container\">\n",
              "      <div>\n",
              "<style scoped>\n",
              "    .dataframe tbody tr th:only-of-type {\n",
              "        vertical-align: middle;\n",
              "    }\n",
              "\n",
              "    .dataframe tbody tr th {\n",
              "        vertical-align: top;\n",
              "    }\n",
              "\n",
              "    .dataframe thead th {\n",
              "        text-align: right;\n",
              "    }\n",
              "</style>\n",
              "<table border=\"1\" class=\"dataframe\">\n",
              "  <thead>\n",
              "    <tr style=\"text-align: right;\">\n",
              "      <th></th>\n",
              "      <th>word_freq_free:</th>\n",
              "      <th>word_freq_you:</th>\n",
              "      <th>word_freq_your:</th>\n",
              "      <th>spam</th>\n",
              "    </tr>\n",
              "  </thead>\n",
              "  <tbody>\n",
              "    <tr>\n",
              "      <th>0</th>\n",
              "      <td>0.32</td>\n",
              "      <td>1.93</td>\n",
              "      <td>0.96</td>\n",
              "      <td>1</td>\n",
              "    </tr>\n",
              "    <tr>\n",
              "      <th>1</th>\n",
              "      <td>0.14</td>\n",
              "      <td>3.47</td>\n",
              "      <td>1.59</td>\n",
              "      <td>1</td>\n",
              "    </tr>\n",
              "    <tr>\n",
              "      <th>2</th>\n",
              "      <td>0.06</td>\n",
              "      <td>1.36</td>\n",
              "      <td>0.51</td>\n",
              "      <td>1</td>\n",
              "    </tr>\n",
              "    <tr>\n",
              "      <th>3</th>\n",
              "      <td>0.31</td>\n",
              "      <td>3.18</td>\n",
              "      <td>0.31</td>\n",
              "      <td>1</td>\n",
              "    </tr>\n",
              "    <tr>\n",
              "      <th>4</th>\n",
              "      <td>0.31</td>\n",
              "      <td>3.18</td>\n",
              "      <td>0.31</td>\n",
              "      <td>1</td>\n",
              "    </tr>\n",
              "  </tbody>\n",
              "</table>\n",
              "</div>\n",
              "      <button class=\"colab-df-convert\" onclick=\"convertToInteractive('df-e83d5a45-0ffd-4ceb-85b8-ea16512c43df')\"\n",
              "              title=\"Convert this dataframe to an interactive table.\"\n",
              "              style=\"display:none;\">\n",
              "        \n",
              "  <svg xmlns=\"http://www.w3.org/2000/svg\" height=\"24px\"viewBox=\"0 0 24 24\"\n",
              "       width=\"24px\">\n",
              "    <path d=\"M0 0h24v24H0V0z\" fill=\"none\"/>\n",
              "    <path d=\"M18.56 5.44l.94 2.06.94-2.06 2.06-.94-2.06-.94-.94-2.06-.94 2.06-2.06.94zm-11 1L8.5 8.5l.94-2.06 2.06-.94-2.06-.94L8.5 2.5l-.94 2.06-2.06.94zm10 10l.94 2.06.94-2.06 2.06-.94-2.06-.94-.94-2.06-.94 2.06-2.06.94z\"/><path d=\"M17.41 7.96l-1.37-1.37c-.4-.4-.92-.59-1.43-.59-.52 0-1.04.2-1.43.59L10.3 9.45l-7.72 7.72c-.78.78-.78 2.05 0 2.83L4 21.41c.39.39.9.59 1.41.59.51 0 1.02-.2 1.41-.59l7.78-7.78 2.81-2.81c.8-.78.8-2.07 0-2.86zM5.41 20L4 18.59l7.72-7.72 1.47 1.35L5.41 20z\"/>\n",
              "  </svg>\n",
              "      </button>\n",
              "      \n",
              "  <style>\n",
              "    .colab-df-container {\n",
              "      display:flex;\n",
              "      flex-wrap:wrap;\n",
              "      gap: 12px;\n",
              "    }\n",
              "\n",
              "    .colab-df-convert {\n",
              "      background-color: #E8F0FE;\n",
              "      border: none;\n",
              "      border-radius: 50%;\n",
              "      cursor: pointer;\n",
              "      display: none;\n",
              "      fill: #1967D2;\n",
              "      height: 32px;\n",
              "      padding: 0 0 0 0;\n",
              "      width: 32px;\n",
              "    }\n",
              "\n",
              "    .colab-df-convert:hover {\n",
              "      background-color: #E2EBFA;\n",
              "      box-shadow: 0px 1px 2px rgba(60, 64, 67, 0.3), 0px 1px 3px 1px rgba(60, 64, 67, 0.15);\n",
              "      fill: #174EA6;\n",
              "    }\n",
              "\n",
              "    [theme=dark] .colab-df-convert {\n",
              "      background-color: #3B4455;\n",
              "      fill: #D2E3FC;\n",
              "    }\n",
              "\n",
              "    [theme=dark] .colab-df-convert:hover {\n",
              "      background-color: #434B5C;\n",
              "      box-shadow: 0px 1px 3px 1px rgba(0, 0, 0, 0.15);\n",
              "      filter: drop-shadow(0px 1px 2px rgba(0, 0, 0, 0.3));\n",
              "      fill: #FFFFFF;\n",
              "    }\n",
              "  </style>\n",
              "\n",
              "      <script>\n",
              "        const buttonEl =\n",
              "          document.querySelector('#df-e83d5a45-0ffd-4ceb-85b8-ea16512c43df button.colab-df-convert');\n",
              "        buttonEl.style.display =\n",
              "          google.colab.kernel.accessAllowed ? 'block' : 'none';\n",
              "\n",
              "        async function convertToInteractive(key) {\n",
              "          const element = document.querySelector('#df-e83d5a45-0ffd-4ceb-85b8-ea16512c43df');\n",
              "          const dataTable =\n",
              "            await google.colab.kernel.invokeFunction('convertToInteractive',\n",
              "                                                     [key], {});\n",
              "          if (!dataTable) return;\n",
              "\n",
              "          const docLinkHtml = 'Like what you see? Visit the ' +\n",
              "            '<a target=\"_blank\" href=https://colab.research.google.com/notebooks/data_table.ipynb>data table notebook</a>'\n",
              "            + ' to learn more about interactive tables.';\n",
              "          element.innerHTML = '';\n",
              "          dataTable['output_type'] = 'display_data';\n",
              "          await google.colab.output.renderOutput(dataTable, element);\n",
              "          const docLink = document.createElement('div');\n",
              "          docLink.innerHTML = docLinkHtml;\n",
              "          element.appendChild(docLink);\n",
              "        }\n",
              "      </script>\n",
              "    </div>\n",
              "  </div>\n",
              "  "
            ]
          },
          "metadata": {},
          "execution_count": 11
        }
      ]
    },
    {
      "cell_type": "code",
      "source": [
        "# define X and y\n",
        "y = subset1['spam']\n",
        "X = subset1.loc[:, subset1.columns != 'spam']\n",
        "display(X.head())\n",
        "print(y[0:5])"
      ],
      "metadata": {
        "colab": {
          "base_uri": "https://localhost:8080/",
          "height": 312
        },
        "id": "yZ5A2JiP2e_9",
        "outputId": "1dc337f1-474d-4967-a192-c293031d1d4e"
      },
      "execution_count": null,
      "outputs": [
        {
          "output_type": "display_data",
          "data": {
            "text/plain": [
              "   word_freq_free:  word_freq_you:  word_freq_your:\n",
              "0             0.32            1.93             0.96\n",
              "1             0.14            3.47             1.59\n",
              "2             0.06            1.36             0.51\n",
              "3             0.31            3.18             0.31\n",
              "4             0.31            3.18             0.31"
            ],
            "text/html": [
              "\n",
              "  <div id=\"df-f5fe00a6-ebc9-4cec-a40b-5856cb504a64\">\n",
              "    <div class=\"colab-df-container\">\n",
              "      <div>\n",
              "<style scoped>\n",
              "    .dataframe tbody tr th:only-of-type {\n",
              "        vertical-align: middle;\n",
              "    }\n",
              "\n",
              "    .dataframe tbody tr th {\n",
              "        vertical-align: top;\n",
              "    }\n",
              "\n",
              "    .dataframe thead th {\n",
              "        text-align: right;\n",
              "    }\n",
              "</style>\n",
              "<table border=\"1\" class=\"dataframe\">\n",
              "  <thead>\n",
              "    <tr style=\"text-align: right;\">\n",
              "      <th></th>\n",
              "      <th>word_freq_free:</th>\n",
              "      <th>word_freq_you:</th>\n",
              "      <th>word_freq_your:</th>\n",
              "    </tr>\n",
              "  </thead>\n",
              "  <tbody>\n",
              "    <tr>\n",
              "      <th>0</th>\n",
              "      <td>0.32</td>\n",
              "      <td>1.93</td>\n",
              "      <td>0.96</td>\n",
              "    </tr>\n",
              "    <tr>\n",
              "      <th>1</th>\n",
              "      <td>0.14</td>\n",
              "      <td>3.47</td>\n",
              "      <td>1.59</td>\n",
              "    </tr>\n",
              "    <tr>\n",
              "      <th>2</th>\n",
              "      <td>0.06</td>\n",
              "      <td>1.36</td>\n",
              "      <td>0.51</td>\n",
              "    </tr>\n",
              "    <tr>\n",
              "      <th>3</th>\n",
              "      <td>0.31</td>\n",
              "      <td>3.18</td>\n",
              "      <td>0.31</td>\n",
              "    </tr>\n",
              "    <tr>\n",
              "      <th>4</th>\n",
              "      <td>0.31</td>\n",
              "      <td>3.18</td>\n",
              "      <td>0.31</td>\n",
              "    </tr>\n",
              "  </tbody>\n",
              "</table>\n",
              "</div>\n",
              "      <button class=\"colab-df-convert\" onclick=\"convertToInteractive('df-f5fe00a6-ebc9-4cec-a40b-5856cb504a64')\"\n",
              "              title=\"Convert this dataframe to an interactive table.\"\n",
              "              style=\"display:none;\">\n",
              "        \n",
              "  <svg xmlns=\"http://www.w3.org/2000/svg\" height=\"24px\"viewBox=\"0 0 24 24\"\n",
              "       width=\"24px\">\n",
              "    <path d=\"M0 0h24v24H0V0z\" fill=\"none\"/>\n",
              "    <path d=\"M18.56 5.44l.94 2.06.94-2.06 2.06-.94-2.06-.94-.94-2.06-.94 2.06-2.06.94zm-11 1L8.5 8.5l.94-2.06 2.06-.94-2.06-.94L8.5 2.5l-.94 2.06-2.06.94zm10 10l.94 2.06.94-2.06 2.06-.94-2.06-.94-.94-2.06-.94 2.06-2.06.94z\"/><path d=\"M17.41 7.96l-1.37-1.37c-.4-.4-.92-.59-1.43-.59-.52 0-1.04.2-1.43.59L10.3 9.45l-7.72 7.72c-.78.78-.78 2.05 0 2.83L4 21.41c.39.39.9.59 1.41.59.51 0 1.02-.2 1.41-.59l7.78-7.78 2.81-2.81c.8-.78.8-2.07 0-2.86zM5.41 20L4 18.59l7.72-7.72 1.47 1.35L5.41 20z\"/>\n",
              "  </svg>\n",
              "      </button>\n",
              "      \n",
              "  <style>\n",
              "    .colab-df-container {\n",
              "      display:flex;\n",
              "      flex-wrap:wrap;\n",
              "      gap: 12px;\n",
              "    }\n",
              "\n",
              "    .colab-df-convert {\n",
              "      background-color: #E8F0FE;\n",
              "      border: none;\n",
              "      border-radius: 50%;\n",
              "      cursor: pointer;\n",
              "      display: none;\n",
              "      fill: #1967D2;\n",
              "      height: 32px;\n",
              "      padding: 0 0 0 0;\n",
              "      width: 32px;\n",
              "    }\n",
              "\n",
              "    .colab-df-convert:hover {\n",
              "      background-color: #E2EBFA;\n",
              "      box-shadow: 0px 1px 2px rgba(60, 64, 67, 0.3), 0px 1px 3px 1px rgba(60, 64, 67, 0.15);\n",
              "      fill: #174EA6;\n",
              "    }\n",
              "\n",
              "    [theme=dark] .colab-df-convert {\n",
              "      background-color: #3B4455;\n",
              "      fill: #D2E3FC;\n",
              "    }\n",
              "\n",
              "    [theme=dark] .colab-df-convert:hover {\n",
              "      background-color: #434B5C;\n",
              "      box-shadow: 0px 1px 3px 1px rgba(0, 0, 0, 0.15);\n",
              "      filter: drop-shadow(0px 1px 2px rgba(0, 0, 0, 0.3));\n",
              "      fill: #FFFFFF;\n",
              "    }\n",
              "  </style>\n",
              "\n",
              "      <script>\n",
              "        const buttonEl =\n",
              "          document.querySelector('#df-f5fe00a6-ebc9-4cec-a40b-5856cb504a64 button.colab-df-convert');\n",
              "        buttonEl.style.display =\n",
              "          google.colab.kernel.accessAllowed ? 'block' : 'none';\n",
              "\n",
              "        async function convertToInteractive(key) {\n",
              "          const element = document.querySelector('#df-f5fe00a6-ebc9-4cec-a40b-5856cb504a64');\n",
              "          const dataTable =\n",
              "            await google.colab.kernel.invokeFunction('convertToInteractive',\n",
              "                                                     [key], {});\n",
              "          if (!dataTable) return;\n",
              "\n",
              "          const docLinkHtml = 'Like what you see? Visit the ' +\n",
              "            '<a target=\"_blank\" href=https://colab.research.google.com/notebooks/data_table.ipynb>data table notebook</a>'\n",
              "            + ' to learn more about interactive tables.';\n",
              "          element.innerHTML = '';\n",
              "          dataTable['output_type'] = 'display_data';\n",
              "          await google.colab.output.renderOutput(dataTable, element);\n",
              "          const docLink = document.createElement('div');\n",
              "          docLink.innerHTML = docLinkHtml;\n",
              "          element.appendChild(docLink);\n",
              "        }\n",
              "      </script>\n",
              "    </div>\n",
              "  </div>\n",
              "  "
            ]
          },
          "metadata": {}
        },
        {
          "output_type": "stream",
          "name": "stdout",
          "text": [
            "0    1\n",
            "1    1\n",
            "2    1\n",
            "3    1\n",
            "4    1\n",
            "Name: spam, dtype: int64\n"
          ]
        }
      ]
    },
    {
      "cell_type": "code",
      "source": [
        "# train/test split\n",
        "X_train, X_test, y_train, y_test = train_test_split(X, y, test_size=.25, random_state=1)\n",
        "\n",
        "# standardize the dataset\n",
        "scaler = preprocessing.StandardScaler()\n",
        "scaler.fit(X_train)\n",
        "X_train_scaled = scaler.transform(X_train)\n",
        "X_test_scaled = scaler.transform(X_test)\n",
        "\n",
        "# instantiate k-fold CV\n",
        "kfold = KFold(n_splits=5)\n",
        "\n",
        "# set parameters for grid search CV\n",
        "param_grid = {'n_neighbors': np.arange(1,23,2)}\n",
        "\n",
        "# instantiate grid search\n",
        "grid = GridSearchCV(KNeighborsClassifier(), param_grid = param_grid, cv=kfold)\n",
        "\n",
        "# fit model\n",
        "grid.fit(X_train_scaled, y_train)\n",
        "\n",
        "# print scores and the best parameter\n",
        "print(\"The best mean cross-validation score: {:.4f}\".format(grid.best_score_))\n",
        "print(\"The best parameter: {}\".format(grid.best_params_))\n",
        "print(\"The test score: {:.4f}\".format(grid.score(X_test_scaled, y_test)))"
      ],
      "metadata": {
        "colab": {
          "base_uri": "https://localhost:8080/"
        },
        "id": "WGwMG4Ix4TIL",
        "outputId": "51d43317-a264-4f11-c59a-0e6a97229c4c"
      },
      "execution_count": null,
      "outputs": [
        {
          "output_type": "stream",
          "name": "stdout",
          "text": [
            "The best mean cross-validation score: 0.8061\n",
            "The best parameter: {'n_neighbors': 15}\n",
            "The test score: 0.8071\n"
          ]
        }
      ]
    },
    {
      "cell_type": "markdown",
      "source": [
        "**Conclusion**  \n",
        "The best parameter using grid search cross-validation is 15. Since the KNN classification model require a majority vote, grid search of k is based on odd numbers. Moreover, k=15 falls in the middle of the grid rather than edges, therefore, 15 should be the optimum."
      ],
      "metadata": {
        "id": "NYk1Gkco9e1T"
      }
    },
    {
      "cell_type": "markdown",
      "source": [
        "## 9. Build the second model  \n",
        "Did the test score better than the previous model?"
      ],
      "metadata": {
        "id": "9h8iYblLFfZX"
      }
    },
    {
      "cell_type": "code",
      "source": [
        "# logistic regression w/o penalty (no scaling, no parameter)\n",
        "# instantiate the model\n",
        "logreg = LogisticRegression(penalty='none').fit(X_train, y_train)\n",
        "\n",
        "# print scores\n",
        "print(\"The best mean cross-validation score: {:.4f}\".format(mean(cross_val_score(logreg, X_train, y_train, cv=kfold))))\n",
        "print(\"The test score: {:.4f}\".format(logreg.score(X_test, y_test)))"
      ],
      "metadata": {
        "colab": {
          "base_uri": "https://localhost:8080/"
        },
        "id": "qaGBwHTT9dvV",
        "outputId": "bfed0058-8b1b-495c-d2b2-9654062478e0"
      },
      "execution_count": null,
      "outputs": [
        {
          "output_type": "stream",
          "name": "stderr",
          "text": [
            "/usr/local/lib/python3.8/dist-packages/sklearn/linear_model/_logistic.py:1173: FutureWarning: `penalty='none'`has been deprecated in 1.2 and will be removed in 1.4. To keep the past behaviour, set `penalty=None`.\n",
            "  warnings.warn(\n",
            "/usr/local/lib/python3.8/dist-packages/sklearn/linear_model/_logistic.py:1173: FutureWarning: `penalty='none'`has been deprecated in 1.2 and will be removed in 1.4. To keep the past behaviour, set `penalty=None`.\n",
            "  warnings.warn(\n",
            "/usr/local/lib/python3.8/dist-packages/sklearn/linear_model/_logistic.py:1173: FutureWarning: `penalty='none'`has been deprecated in 1.2 and will be removed in 1.4. To keep the past behaviour, set `penalty=None`.\n",
            "  warnings.warn(\n",
            "/usr/local/lib/python3.8/dist-packages/sklearn/linear_model/_logistic.py:1173: FutureWarning: `penalty='none'`has been deprecated in 1.2 and will be removed in 1.4. To keep the past behaviour, set `penalty=None`.\n",
            "  warnings.warn(\n",
            "/usr/local/lib/python3.8/dist-packages/sklearn/linear_model/_logistic.py:1173: FutureWarning: `penalty='none'`has been deprecated in 1.2 and will be removed in 1.4. To keep the past behaviour, set `penalty=None`.\n",
            "  warnings.warn(\n",
            "/usr/local/lib/python3.8/dist-packages/sklearn/linear_model/_logistic.py:1173: FutureWarning: `penalty='none'`has been deprecated in 1.2 and will be removed in 1.4. To keep the past behaviour, set `penalty=None`.\n",
            "  warnings.warn(\n"
          ]
        },
        {
          "output_type": "stream",
          "name": "stdout",
          "text": [
            "The best mean cross-validation score: 0.7646\n",
            "The test score: 0.7619\n"
          ]
        }
      ]
    },
    {
      "cell_type": "code",
      "source": [
        "# logistic regression with l2 penalty\n",
        "# set parameters for grid search CV\n",
        "param_grid = {'C': [0.001, 0.01, 0.1, 1, 10, 100, 1000]}\n",
        "\n",
        "# instantiate grid search\n",
        "grid = GridSearchCV(LogisticRegression(penalty='l2'), param_grid = param_grid, cv=kfold)\n",
        "\n",
        "# fit model\n",
        "grid.fit(X_train, y_train)\n",
        "\n",
        "# print scores and the best parameter\n",
        "print(\"The best mean cross-validation score: {:.4f}\".format(grid.best_score_))\n",
        "print(\"The best parameter: {}\".format(grid.best_params_))\n",
        "print(\"The test score: {:.4f}\".format(grid.score(X_test, y_test)))"
      ],
      "metadata": {
        "colab": {
          "base_uri": "https://localhost:8080/"
        },
        "id": "sDuWLjFrKMVh",
        "outputId": "837495ec-f1ff-4123-91ad-2fc262d9ec5e"
      },
      "execution_count": null,
      "outputs": [
        {
          "output_type": "stream",
          "name": "stdout",
          "text": [
            "The best mean cross-validation score: 0.7649\n",
            "The best parameter: {'C': 1}\n",
            "The test score: 0.7619\n"
          ]
        }
      ]
    },
    {
      "cell_type": "code",
      "source": [
        "# logistic regression with l1 penalty\n",
        "# set parameters for grid search CV\n",
        "param_grid = {'C': [0.001, 0.01, 0.1, 1, 10, 100, 1000]}\n",
        "\n",
        "# instantiate grid search\n",
        "grid = GridSearchCV(LogisticRegression(penalty='l1', solver='liblinear'), param_grid = param_grid, cv=kfold)\n",
        "\n",
        "# fit model\n",
        "grid.fit(X_train, y_train)\n",
        "\n",
        "# print scores and the best parameter\n",
        "print(\"The best mean cross-validation score: {:.4f}\".format(grid.best_score_))\n",
        "print(\"The best parameter: {}\".format(grid.best_params_))\n",
        "print(\"The test score: {:.4f}\".format(grid.score(X_test, y_test)))"
      ],
      "metadata": {
        "colab": {
          "base_uri": "https://localhost:8080/"
        },
        "id": "JwAStSgAMS68",
        "outputId": "d39114f2-eefe-4c88-b886-7a87a1702830"
      },
      "execution_count": null,
      "outputs": [
        {
          "output_type": "stream",
          "name": "stdout",
          "text": [
            "The best mean cross-validation score: 0.7646\n",
            "The best parameter: {'C': 1}\n",
            "The test score: 0.7637\n"
          ]
        }
      ]
    },
    {
      "cell_type": "markdown",
      "source": [
        "**Conclusion**  \n",
        "The best parameter using grid search cross-validation is C=1. C=1 falls in the middle of the grid rather than edges, therefore, C=1 should be the optimum.  \n",
        "\n",
        "No matter whether the logistic regression model has a penalty parameter or not, the test score is not as good as the KNN model."
      ],
      "metadata": {
        "id": "NVE4T-0MMzUS"
      }
    },
    {
      "cell_type": "markdown",
      "source": [
        "## 10. Build the third model  \n",
        "Did the test score better than the previous models?"
      ],
      "metadata": {
        "id": "myuXjYkC-W3y"
      }
    },
    {
      "cell_type": "code",
      "source": [
        "# decision trees classification\n",
        "param_grid = {'max_depth': [1, 2, 3, 4, 5],\n",
        "              'criterion': ['gini', 'entropy'],\n",
        "              'min_samples_leaf': [5, 10, 15, 20, 50, 100]}\n",
        "\n",
        "grid = GridSearchCV(DecisionTreeClassifier(random_state=42), param_grid = param_grid, cv=kfold)\n",
        "grid.fit(X_train, y_train)\n",
        "\n",
        "print(\"The best mean cross-validation score: {:.4f}\".format(grid.best_score_))\n",
        "print(\"The best parameter: {}\".format(grid.best_params_))\n",
        "print(\"The test score: {:.4f}\".format(grid.score(X_test, y_test)))"
      ],
      "metadata": {
        "id": "cZ5YrUybMuLY",
        "colab": {
          "base_uri": "https://localhost:8080/"
        },
        "outputId": "7cf05bd1-0c4d-4a0d-c938-f482b2ac6185"
      },
      "execution_count": null,
      "outputs": [
        {
          "output_type": "stream",
          "name": "stdout",
          "text": [
            "The best mean cross-validation score: 0.8035\n",
            "The best parameter: {'criterion': 'gini', 'max_depth': 4, 'min_samples_leaf': 10}\n",
            "The test score: 0.7889\n"
          ]
        }
      ]
    },
    {
      "cell_type": "markdown",
      "source": [
        "**Conclusion**  \n",
        "The best parameters for the decision trees classification model are criterion = 'gini', max_depth = 4, and min_samples_leaf = 10. While the first 2 parameters fall in the values within the grid, I have tries several values in the range(5, 20) and the grid search finally select 10 as the optimum.  \n",
        "\n",
        "The test score is higher than that of logistic regression models but lower than that of KNN classification model. "
      ],
      "metadata": {
        "id": "tA-H3AlcGw_A"
      }
    },
    {
      "cell_type": "markdown",
      "source": [
        "## 11. Build the fourth model  \n",
        "Evaluate prediction error, did the model predict better than previous ones?"
      ],
      "metadata": {
        "id": "w9qyDq-0KD1l"
      }
    },
    {
      "cell_type": "code",
      "source": [
        "# random forests classification\n",
        "param_grid = {'n_estimators': [25, 30, 35, 40],\n",
        "              'max_depth': [3, 4, 5],\n",
        "              'criterion': ['gini', 'entropy'],\n",
        "              'min_samples_leaf': [1, 2, 3, 4, 5, 6]}\n",
        "\n",
        "grid = GridSearchCV(RandomForestClassifier(random_state=2), param_grid = param_grid, cv=kfold)\n",
        "grid.fit(X_train, y_train)\n",
        "\n",
        "print(\"The best mean cross-validation score: {:.4f}\".format(grid.best_score_))\n",
        "print(\"The best parameter: {}\".format(grid.best_params_))\n",
        "print(\"The test score: {:.4f}\".format(grid.score(X_test, y_test)))"
      ],
      "metadata": {
        "colab": {
          "base_uri": "https://localhost:8080/"
        },
        "id": "yx1Xnx-UGFYT",
        "outputId": "4732e294-791c-4589-b792-361630f2dc86"
      },
      "execution_count": null,
      "outputs": [
        {
          "output_type": "stream",
          "name": "stdout",
          "text": [
            "The best mean cross-validation score: 0.8113\n",
            "The best parameter: {'criterion': 'gini', 'max_depth': 4, 'min_samples_leaf': 6, 'n_estimators': 35}\n",
            "The test score: 0.7889\n"
          ]
        }
      ]
    },
    {
      "cell_type": "markdown",
      "source": [
        "**Conclusion**  \n",
        "The best parameters for the random forests classification model are criterion = 'gini', max_depth = 4, min_samples_leaf = 6, and n_estimator = 35. Since all the selected parameters fall in the middle of the grid, they are optimum compared to other values in the grid.\n",
        "\n",
        "By measuring cross-validation score, the SVM Classification model has the best results, but its test score is not as good as the KNN classification model. Based on the cross-validation results, **the best model is the SVM classification model**."
      ],
      "metadata": {
        "id": "87-D_V1OZxQ1"
      }
    },
    {
      "cell_type": "markdown",
      "source": [
        "## 12. Rerun the best model with 3 more variables  \n",
        "Did the test score result improve?"
      ],
      "metadata": {
        "id": "mejfXZvUay-J"
      }
    },
    {
      "cell_type": "code",
      "source": [
        "subset2 = df.iloc[:, [2, 4, 15, 18, 20, 51, 57]]\n",
        "subset2.head()\n",
        "\n",
        "y = subset2['spam']\n",
        "X = subset2.loc[:, subset2.columns != 'spam']\n",
        "display(X.head())\n",
        "print(y[0:5])"
      ],
      "metadata": {
        "colab": {
          "base_uri": "https://localhost:8080/",
          "height": 356
        },
        "id": "A8IttKmoXzjr",
        "outputId": "b0e74384-b7fe-4ee4-e616-5106b88a4337"
      },
      "execution_count": null,
      "outputs": [
        {
          "output_type": "display_data",
          "data": {
            "text/plain": [
              "   word_freq_all:  word_freq_our:  word_freq_free:  word_freq_you:  \\\n",
              "0            0.64            0.32             0.32            1.93   \n",
              "1            0.50            0.14             0.14            3.47   \n",
              "2            0.71            1.23             0.06            1.36   \n",
              "3            0.00            0.63             0.31            3.18   \n",
              "4            0.00            0.63             0.31            3.18   \n",
              "\n",
              "   word_freq_your:  char_freq_!:  \n",
              "0             0.96         0.778  \n",
              "1             1.59         0.372  \n",
              "2             0.51         0.276  \n",
              "3             0.31         0.137  \n",
              "4             0.31         0.135  "
            ],
            "text/html": [
              "\n",
              "  <div id=\"df-0c45f0f2-0ea8-450d-85d4-f63c05ba1d1c\">\n",
              "    <div class=\"colab-df-container\">\n",
              "      <div>\n",
              "<style scoped>\n",
              "    .dataframe tbody tr th:only-of-type {\n",
              "        vertical-align: middle;\n",
              "    }\n",
              "\n",
              "    .dataframe tbody tr th {\n",
              "        vertical-align: top;\n",
              "    }\n",
              "\n",
              "    .dataframe thead th {\n",
              "        text-align: right;\n",
              "    }\n",
              "</style>\n",
              "<table border=\"1\" class=\"dataframe\">\n",
              "  <thead>\n",
              "    <tr style=\"text-align: right;\">\n",
              "      <th></th>\n",
              "      <th>word_freq_all:</th>\n",
              "      <th>word_freq_our:</th>\n",
              "      <th>word_freq_free:</th>\n",
              "      <th>word_freq_you:</th>\n",
              "      <th>word_freq_your:</th>\n",
              "      <th>char_freq_!:</th>\n",
              "    </tr>\n",
              "  </thead>\n",
              "  <tbody>\n",
              "    <tr>\n",
              "      <th>0</th>\n",
              "      <td>0.64</td>\n",
              "      <td>0.32</td>\n",
              "      <td>0.32</td>\n",
              "      <td>1.93</td>\n",
              "      <td>0.96</td>\n",
              "      <td>0.778</td>\n",
              "    </tr>\n",
              "    <tr>\n",
              "      <th>1</th>\n",
              "      <td>0.50</td>\n",
              "      <td>0.14</td>\n",
              "      <td>0.14</td>\n",
              "      <td>3.47</td>\n",
              "      <td>1.59</td>\n",
              "      <td>0.372</td>\n",
              "    </tr>\n",
              "    <tr>\n",
              "      <th>2</th>\n",
              "      <td>0.71</td>\n",
              "      <td>1.23</td>\n",
              "      <td>0.06</td>\n",
              "      <td>1.36</td>\n",
              "      <td>0.51</td>\n",
              "      <td>0.276</td>\n",
              "    </tr>\n",
              "    <tr>\n",
              "      <th>3</th>\n",
              "      <td>0.00</td>\n",
              "      <td>0.63</td>\n",
              "      <td>0.31</td>\n",
              "      <td>3.18</td>\n",
              "      <td>0.31</td>\n",
              "      <td>0.137</td>\n",
              "    </tr>\n",
              "    <tr>\n",
              "      <th>4</th>\n",
              "      <td>0.00</td>\n",
              "      <td>0.63</td>\n",
              "      <td>0.31</td>\n",
              "      <td>3.18</td>\n",
              "      <td>0.31</td>\n",
              "      <td>0.135</td>\n",
              "    </tr>\n",
              "  </tbody>\n",
              "</table>\n",
              "</div>\n",
              "      <button class=\"colab-df-convert\" onclick=\"convertToInteractive('df-0c45f0f2-0ea8-450d-85d4-f63c05ba1d1c')\"\n",
              "              title=\"Convert this dataframe to an interactive table.\"\n",
              "              style=\"display:none;\">\n",
              "        \n",
              "  <svg xmlns=\"http://www.w3.org/2000/svg\" height=\"24px\"viewBox=\"0 0 24 24\"\n",
              "       width=\"24px\">\n",
              "    <path d=\"M0 0h24v24H0V0z\" fill=\"none\"/>\n",
              "    <path d=\"M18.56 5.44l.94 2.06.94-2.06 2.06-.94-2.06-.94-.94-2.06-.94 2.06-2.06.94zm-11 1L8.5 8.5l.94-2.06 2.06-.94-2.06-.94L8.5 2.5l-.94 2.06-2.06.94zm10 10l.94 2.06.94-2.06 2.06-.94-2.06-.94-.94-2.06-.94 2.06-2.06.94z\"/><path d=\"M17.41 7.96l-1.37-1.37c-.4-.4-.92-.59-1.43-.59-.52 0-1.04.2-1.43.59L10.3 9.45l-7.72 7.72c-.78.78-.78 2.05 0 2.83L4 21.41c.39.39.9.59 1.41.59.51 0 1.02-.2 1.41-.59l7.78-7.78 2.81-2.81c.8-.78.8-2.07 0-2.86zM5.41 20L4 18.59l7.72-7.72 1.47 1.35L5.41 20z\"/>\n",
              "  </svg>\n",
              "      </button>\n",
              "      \n",
              "  <style>\n",
              "    .colab-df-container {\n",
              "      display:flex;\n",
              "      flex-wrap:wrap;\n",
              "      gap: 12px;\n",
              "    }\n",
              "\n",
              "    .colab-df-convert {\n",
              "      background-color: #E8F0FE;\n",
              "      border: none;\n",
              "      border-radius: 50%;\n",
              "      cursor: pointer;\n",
              "      display: none;\n",
              "      fill: #1967D2;\n",
              "      height: 32px;\n",
              "      padding: 0 0 0 0;\n",
              "      width: 32px;\n",
              "    }\n",
              "\n",
              "    .colab-df-convert:hover {\n",
              "      background-color: #E2EBFA;\n",
              "      box-shadow: 0px 1px 2px rgba(60, 64, 67, 0.3), 0px 1px 3px 1px rgba(60, 64, 67, 0.15);\n",
              "      fill: #174EA6;\n",
              "    }\n",
              "\n",
              "    [theme=dark] .colab-df-convert {\n",
              "      background-color: #3B4455;\n",
              "      fill: #D2E3FC;\n",
              "    }\n",
              "\n",
              "    [theme=dark] .colab-df-convert:hover {\n",
              "      background-color: #434B5C;\n",
              "      box-shadow: 0px 1px 3px 1px rgba(0, 0, 0, 0.15);\n",
              "      filter: drop-shadow(0px 1px 2px rgba(0, 0, 0, 0.3));\n",
              "      fill: #FFFFFF;\n",
              "    }\n",
              "  </style>\n",
              "\n",
              "      <script>\n",
              "        const buttonEl =\n",
              "          document.querySelector('#df-0c45f0f2-0ea8-450d-85d4-f63c05ba1d1c button.colab-df-convert');\n",
              "        buttonEl.style.display =\n",
              "          google.colab.kernel.accessAllowed ? 'block' : 'none';\n",
              "\n",
              "        async function convertToInteractive(key) {\n",
              "          const element = document.querySelector('#df-0c45f0f2-0ea8-450d-85d4-f63c05ba1d1c');\n",
              "          const dataTable =\n",
              "            await google.colab.kernel.invokeFunction('convertToInteractive',\n",
              "                                                     [key], {});\n",
              "          if (!dataTable) return;\n",
              "\n",
              "          const docLinkHtml = 'Like what you see? Visit the ' +\n",
              "            '<a target=\"_blank\" href=https://colab.research.google.com/notebooks/data_table.ipynb>data table notebook</a>'\n",
              "            + ' to learn more about interactive tables.';\n",
              "          element.innerHTML = '';\n",
              "          dataTable['output_type'] = 'display_data';\n",
              "          await google.colab.output.renderOutput(dataTable, element);\n",
              "          const docLink = document.createElement('div');\n",
              "          docLink.innerHTML = docLinkHtml;\n",
              "          element.appendChild(docLink);\n",
              "        }\n",
              "      </script>\n",
              "    </div>\n",
              "  </div>\n",
              "  "
            ]
          },
          "metadata": {}
        },
        {
          "output_type": "stream",
          "name": "stdout",
          "text": [
            "0    1\n",
            "1    1\n",
            "2    1\n",
            "3    1\n",
            "4    1\n",
            "Name: spam, dtype: int64\n"
          ]
        }
      ]
    },
    {
      "cell_type": "code",
      "source": [
        "X_train, X_test, y_train, y_test = train_test_split(X, y, test_size=.25, random_state=3)\n",
        "\n",
        "# standardize the dataset\n",
        "scaler = preprocessing.StandardScaler()\n",
        "scaler.fit(X_train)\n",
        "X_train_scaled = scaler.transform(X_train)\n",
        "X_test_scaled = scaler.transform(X_test)"
      ],
      "metadata": {
        "id": "x_sK9eBybm4E"
      },
      "execution_count": null,
      "outputs": []
    },
    {
      "cell_type": "code",
      "source": [
        "# random forests classification (the best model so far)\n",
        "param_grid = {'n_estimators': [40, 45, 50, 55],\n",
        "              'max_depth': [8, 9, 10, 11, 12],\n",
        "              'criterion': ['gini', 'entropy'],\n",
        "              'min_samples_leaf': [1, 2, 3]}\n",
        "\n",
        "grid = GridSearchCV(RandomForestClassifier(random_state=2), param_grid = param_grid, cv=kfold)\n",
        "grid.fit(X_train, y_train)\n",
        "\n",
        "print(\"The best mean cross-validation score: {:.4f}\".format(grid.best_score_))\n",
        "print(\"The best parameter: {}\".format(grid.best_params_))\n",
        "print(\"The test score: {:.4f}\".format(grid.score(X_test, y_test)))"
      ],
      "metadata": {
        "colab": {
          "base_uri": "https://localhost:8080/"
        },
        "id": "yWt1egG8cEXL",
        "outputId": "1786b11c-2b18-4e0b-acc9-2f5a829903bb"
      },
      "execution_count": null,
      "outputs": [
        {
          "output_type": "stream",
          "name": "stdout",
          "text": [
            "The best mean cross-validation score: 0.8739\n",
            "The best parameter: {'criterion': 'gini', 'max_depth': 9, 'min_samples_leaf': 1, 'n_estimators': 45}\n",
            "The test score: 0.8758\n"
          ]
        }
      ]
    },
    {
      "cell_type": "markdown",
      "source": [
        "**Conclusion**  \n",
        "The test score of the new model with 6 variables is higher than those of previous models with 3 variables."
      ],
      "metadata": {
        "id": "aehTeWktfPjy"
      }
    },
    {
      "cell_type": "markdown",
      "source": [
        "## 13. Rerun all the other models with 6 variables and choose the best model"
      ],
      "metadata": {
        "id": "wQtzWdAFfrNo"
      }
    },
    {
      "cell_type": "code",
      "source": [
        "# KNN\n",
        "param_grid = {'n_neighbors': np.arange(1,23,2)}\n",
        "\n",
        "grid = GridSearchCV(KNeighborsClassifier(), param_grid = param_grid, cv=kfold)\n",
        "\n",
        "grid.fit(X_train_scaled, y_train)\n",
        "\n",
        "print(\"The best mean cross-validation score: {:.4f}\".format(grid.best_score_))\n",
        "print(\"The best parameter: {}\".format(grid.best_params_))\n",
        "print(\"The test score: {:.4f}\".format(grid.score(X_test_scaled, y_test)))"
      ],
      "metadata": {
        "colab": {
          "base_uri": "https://localhost:8080/"
        },
        "id": "kFlMZZ8WfO4i",
        "outputId": "0bd27b6a-22b9-47ab-a69b-8f05b789d9c4"
      },
      "execution_count": null,
      "outputs": [
        {
          "output_type": "stream",
          "name": "stdout",
          "text": [
            "The best mean cross-validation score: 0.8472\n",
            "The best parameter: {'n_neighbors': 7}\n",
            "The test score: 0.8349\n"
          ]
        }
      ]
    },
    {
      "cell_type": "code",
      "source": [
        "# Logistic Regression 1\n",
        "# simple logistic regression\n",
        "logreg = LogisticRegression(penalty='none').fit(X_train, y_train)\n",
        "\n",
        "print(\"The best mean cross-validation score: {:.4f}\".format(mean(cross_val_score(logreg, X_train, y_train, cv=kfold))))\n",
        "print(\"The test score: {:.4f}\".format(logreg.score(X_test, y_test)))"
      ],
      "metadata": {
        "colab": {
          "base_uri": "https://localhost:8080/"
        },
        "id": "DWNHR_C-f2gy",
        "outputId": "928a28e8-12d8-4f96-b289-e21afa504fff"
      },
      "execution_count": null,
      "outputs": [
        {
          "output_type": "stream",
          "name": "stdout",
          "text": [
            "The best mean cross-validation score: 0.8110\n",
            "The test score: 0.8123\n"
          ]
        },
        {
          "output_type": "stream",
          "name": "stderr",
          "text": [
            "/usr/local/lib/python3.8/dist-packages/sklearn/linear_model/_logistic.py:1173: FutureWarning: `penalty='none'`has been deprecated in 1.2 and will be removed in 1.4. To keep the past behaviour, set `penalty=None`.\n",
            "  warnings.warn(\n",
            "/usr/local/lib/python3.8/dist-packages/sklearn/linear_model/_logistic.py:1173: FutureWarning: `penalty='none'`has been deprecated in 1.2 and will be removed in 1.4. To keep the past behaviour, set `penalty=None`.\n",
            "  warnings.warn(\n",
            "/usr/local/lib/python3.8/dist-packages/sklearn/linear_model/_logistic.py:1173: FutureWarning: `penalty='none'`has been deprecated in 1.2 and will be removed in 1.4. To keep the past behaviour, set `penalty=None`.\n",
            "  warnings.warn(\n",
            "/usr/local/lib/python3.8/dist-packages/sklearn/linear_model/_logistic.py:1173: FutureWarning: `penalty='none'`has been deprecated in 1.2 and will be removed in 1.4. To keep the past behaviour, set `penalty=None`.\n",
            "  warnings.warn(\n",
            "/usr/local/lib/python3.8/dist-packages/sklearn/linear_model/_logistic.py:1173: FutureWarning: `penalty='none'`has been deprecated in 1.2 and will be removed in 1.4. To keep the past behaviour, set `penalty=None`.\n",
            "  warnings.warn(\n",
            "/usr/local/lib/python3.8/dist-packages/sklearn/linear_model/_logistic.py:1173: FutureWarning: `penalty='none'`has been deprecated in 1.2 and will be removed in 1.4. To keep the past behaviour, set `penalty=None`.\n",
            "  warnings.warn(\n"
          ]
        }
      ]
    },
    {
      "cell_type": "code",
      "source": [
        "# Logistic Regression 2\n",
        "# l2 penalty\n",
        "param_grid = {'C': [0.001, 0.01, 0.1, 1, 10, 100, 1000]}\n",
        "\n",
        "grid = GridSearchCV(LogisticRegression(penalty='l2'), param_grid = param_grid, cv=kfold)\n",
        "\n",
        "grid.fit(X_train, y_train)\n",
        "\n",
        "print(\"The best mean cross-validation score: {:.4f}\".format(grid.best_score_))\n",
        "print(\"The best parameter: {}\".format(grid.best_params_))\n",
        "print(\"The test score: {:.4f}\".format(grid.score(X_test, y_test)))"
      ],
      "metadata": {
        "colab": {
          "base_uri": "https://localhost:8080/"
        },
        "id": "TWloYkrigLzc",
        "outputId": "81b7d5ec-b9c4-4fcb-89e7-7325c97203e8"
      },
      "execution_count": null,
      "outputs": [
        {
          "output_type": "stream",
          "name": "stdout",
          "text": [
            "The best mean cross-validation score: 0.8119\n",
            "The best parameter: {'C': 0.1}\n",
            "The test score: 0.8115\n"
          ]
        }
      ]
    },
    {
      "cell_type": "code",
      "source": [
        "# Logistic Regression 3\n",
        "# l1 penalty\n",
        "param_grid = {'C': [0.001, 0.01, 0.1, 1, 10, 100, 1000]}\n",
        "\n",
        "grid = GridSearchCV(LogisticRegression(penalty='l1', solver='liblinear'), param_grid = param_grid, cv=kfold)\n",
        "\n",
        "grid.fit(X_train, y_train)\n",
        "\n",
        "print(\"The best mean cross-validation score: {:.4f}\".format(grid.best_score_))\n",
        "print(\"The best parameter: {}\".format(grid.best_params_))\n",
        "print(\"The test score: {:.4f}\".format(grid.score(X_test, y_test)))"
      ],
      "metadata": {
        "colab": {
          "base_uri": "https://localhost:8080/"
        },
        "id": "6JJmc1xnf5ZX",
        "outputId": "837c460f-871d-4a63-da92-53b102d1b1bd"
      },
      "execution_count": null,
      "outputs": [
        {
          "output_type": "stream",
          "name": "stdout",
          "text": [
            "The best mean cross-validation score: 0.8110\n",
            "The best parameter: {'C': 1}\n",
            "The test score: 0.8115\n"
          ]
        }
      ]
    },
    {
      "cell_type": "code",
      "source": [
        "# decision trees classification\n",
        "param_grid = {'max_depth': [4, 5, 6, 7],\n",
        "              'criterion': ['gini', 'entropy'],\n",
        "              'min_samples_leaf': [1, 2, 3, 4, 5, 10]}\n",
        "\n",
        "grid = GridSearchCV(DecisionTreeClassifier(random_state=4), param_grid = param_grid, cv=kfold)\n",
        "grid.fit(X_train, y_train)\n",
        "\n",
        "print(\"The best mean cross-validation score: {:.4f}\".format(grid.best_score_))\n",
        "print(\"The best parameter: {}\".format(grid.best_params_))\n",
        "print(\"The test score: {:.4f}\".format(grid.score(X_test, y_test)))"
      ],
      "metadata": {
        "colab": {
          "base_uri": "https://localhost:8080/"
        },
        "id": "LCRJkbHxgmYW",
        "outputId": "51a94614-715b-4d7b-985d-1a3b6b7c1c44"
      },
      "execution_count": null,
      "outputs": [
        {
          "output_type": "stream",
          "name": "stdout",
          "text": [
            "The best mean cross-validation score: 0.8557\n",
            "The best parameter: {'criterion': 'gini', 'max_depth': 6, 'min_samples_leaf': 5}\n",
            "The test score: 0.8462\n"
          ]
        }
      ]
    },
    {
      "cell_type": "markdown",
      "source": [
        "**Conclusion**  \n",
        "According to the cross-validation scores of these models, the random forests classification model with the highest cross-validation score is the best and final model."
      ],
      "metadata": {
        "id": "Y76WUhv6g8cs"
      }
    },
    {
      "cell_type": "markdown",
      "source": [
        "## 14. Speculate about a variable outside the the model that can increase the model's predictive power"
      ],
      "metadata": {
        "id": "cVVlmFVmhnuK"
      }
    },
    {
      "cell_type": "code",
      "source": [
        "spam.columns[9]"
      ],
      "metadata": {
        "colab": {
          "base_uri": "https://localhost:8080/",
          "height": 36
        },
        "id": "6dY0TE9ThZoG",
        "outputId": "8d43f023-6d40-4206-cc4e-69c60b34bc1f"
      },
      "execution_count": null,
      "outputs": [
        {
          "output_type": "execute_result",
          "data": {
            "text/plain": [
              "'word_freq_mail:'"
            ],
            "application/vnd.google.colaboratory.intrinsic+json": {
              "type": "string"
            }
          },
          "metadata": {},
          "execution_count": 44
        }
      ]
    },
    {
      "cell_type": "markdown",
      "source": [
        "**Reasoning**  \n",
        "Apart from the selected 6 variables, according to the rank output about mean frequency values in question 2, the following variable that distinguishes the spam email from non-spam email is attribute 9; in other words, spam emails might include the word \"mail\" more compared to nonspam emails."
      ],
      "metadata": {
        "id": "yTO7Wl-ViKM-"
      }
    },
    {
      "cell_type": "code",
      "source": [],
      "metadata": {
        "id": "VUVpST2Mjw3x"
      },
      "execution_count": null,
      "outputs": []
    }
  ]
}
